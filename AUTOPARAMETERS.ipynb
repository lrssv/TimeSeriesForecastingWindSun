{
  "nbformat": 4,
  "nbformat_minor": 0,
  "metadata": {
    "colab": {
      "name": "AUTOPARAMETERS.ipynb",
      "provenance": [],
      "authorship_tag": "ABX9TyNotbRN3b9pRd6Vye+Wi/fu",
      "include_colab_link": true
    },
    "kernelspec": {
      "name": "python3",
      "display_name": "Python 3"
    }
  },
  "cells": [
    {
      "cell_type": "markdown",
      "metadata": {
        "id": "view-in-github",
        "colab_type": "text"
      },
      "source": [
        "<a href=\"https://colab.research.google.com/github/lrssv/TimeSeriesForecastingWindSun/blob/master/AUTOPARAMETERS.ipynb\" target=\"_parent\"><img src=\"https://colab.research.google.com/assets/colab-badge.svg\" alt=\"Open In Colab\"/></a>"
      ]
    },
    {
      "cell_type": "markdown",
      "metadata": {
        "id": "ibbnmGSESOTK",
        "colab_type": "text"
      },
      "source": [
        "# AUTOARIMA e AUTOSARIMA para o projeto WindSun "
      ]
    },
    {
      "cell_type": "markdown",
      "metadata": {
        "id": "OxYAZ5saSMZH",
        "colab_type": "text"
      },
      "source": [
        "## Obtendo os dados atráves do github"
      ]
    },
    {
      "cell_type": "code",
      "metadata": {
        "id": "o4Cl-RC4dNoR",
        "colab_type": "code",
        "colab": {}
      },
      "source": [
        "!pip install pmdarima"
      ],
      "execution_count": null,
      "outputs": []
    },
    {
      "cell_type": "code",
      "metadata": {
        "id": "NYf7ovM_SAss",
        "colab_type": "code",
        "colab": {}
      },
      "source": [
        "#imports\n",
        "import pandas as pd\n",
        "import numpy as np\n",
        "from tqdm import tqdm\n",
        "from datetime import timedelta\n",
        "import statsmodels.api as sm\n",
        "#from pmdarima.arima import ndiffs\n",
        "#import pmdarima as pm\n",
        "import time "
      ],
      "execution_count": null,
      "outputs": []
    },
    {
      "cell_type": "code",
      "metadata": {
        "id": "I4TD-lU_SS_1",
        "colab_type": "code",
        "colab": {}
      },
      "source": [
        "#get data\n",
        "url1 = 'https://raw.githubusercontent.com/lrssv/TimeSeriesForecastingWindSun/master/series_ventovel_pampulha_2018_2019'\n",
        "url2 = 'https://raw.githubusercontent.com/lrssv/TimeSeriesForecastingWindSun/master/series_radiacao_pampulha_2018_2019'\n",
        "\n",
        "df_ventovel = pd.read_csv(url1, header=0, parse_dates=[0], index_col=0, squeeze=True)\n",
        "df_radiacao = pd.read_csv(url2, header=0, parse_dates=[0], index_col=0, squeeze=True)\n",
        "\n",
        "\n",
        "series_ventovel = pd.Series(df_ventovel)\n",
        "series_radiacao = pd.Series(df_radiacao)"
      ],
      "execution_count": null,
      "outputs": []
    },
    {
      "cell_type": "markdown",
      "metadata": {
        "id": "JdKMDsaDmJZy",
        "colab_type": "text"
      },
      "source": [
        "## AUTOARIMA"
      ]
    },
    {
      "cell_type": "code",
      "metadata": {
        "id": "2WJdOT-D0R1p",
        "colab_type": "code",
        "colab": {}
      },
      "source": [
        "#cold start = 1 ano\n",
        "size = int(len(series_radiacao) / 2)\n",
        "cold_start = len(series_radiacao[:size])"
      ],
      "execution_count": null,
      "outputs": []
    },
    {
      "cell_type": "markdown",
      "metadata": {
        "id": "-qCIecB7a-_b",
        "colab_type": "text"
      },
      "source": [
        "###Definindo o valor de d para cada série"
      ]
    },
    {
      "cell_type": "code",
      "metadata": {
        "id": "wpYCA5GrZ-hH",
        "colab_type": "code",
        "colab": {}
      },
      "source": [
        "def d_term(series,cold_start):\n",
        "\n",
        "  begin = series.index.min() + timedelta(days=0)\n",
        "  date_list = [begin + timedelta(hours=cold_start) + timedelta(hours=x) for x in range(0, (len(series)-cold_start), 745)]\n",
        "\n",
        "  for date in date_list:  \n",
        "    train = series[begin:date]\n",
        "    kpss_diffs = ndiffs(train, alpha=0.05, test='kpss', max_d=6)\n",
        "    adf_diffs = ndiffs(train, alpha=0.05, test='adf', max_d=6)\n",
        "    n_diffs = max(adf_diffs, kpss_diffs)\n",
        "    print(n_diffs)"
      ],
      "execution_count": null,
      "outputs": []
    },
    {
      "cell_type": "code",
      "metadata": {
        "id": "PBfsWCmkay7z",
        "colab_type": "code",
        "colab": {}
      },
      "source": [
        "d_ventovel = d_term(series_ventovel,cold_start)"
      ],
      "execution_count": null,
      "outputs": []
    },
    {
      "cell_type": "code",
      "metadata": {
        "id": "tmuoqScKbGzy",
        "colab_type": "code",
        "colab": {}
      },
      "source": [
        "df_radiacao = d_term(series_radiacao,cold_start)"
      ],
      "execution_count": null,
      "outputs": []
    },
    {
      "cell_type": "markdown",
      "metadata": {
        "id": "MQxwNTDVbK_b",
        "colab_type": "text"
      },
      "source": [
        "###Implementação do AUTOARIMA"
      ]
    },
    {
      "cell_type": "code",
      "metadata": {
        "id": "NhFhE4HBmb3K",
        "colab_type": "code",
        "colab": {}
      },
      "source": [
        "def run_autoarima(series,d,cold_start):\n",
        "  results = []\n",
        "\n",
        "  begin = series.index.min() + timedelta(days=0)\n",
        "  date_list = [begin + timedelta(hours=cold_start) + timedelta(hours=x) for x in range(0, (len(series)-cold_start), 745)]\n",
        "  \n",
        "  start = time.time()\n",
        "  \n",
        "  for date in tqdm(date_list):  \n",
        "    train = series[begin:date]\n",
        "    auto = pm.auto_arima(train, d=d, seasonal=False, stepwise=True,\n",
        "                     suppress_warnings=True, error_action=\"ignore\", max_p=12, \n",
        "                     max_q=12, max_order=None, trace=True)\n",
        "    results.append(auto.order)\n",
        "\n",
        "  t = time.time() - start\n",
        "  return results,t"
      ],
      "execution_count": null,
      "outputs": []
    },
    {
      "cell_type": "markdown",
      "metadata": {
        "id": "4fWrk1IxAZIT",
        "colab_type": "text"
      },
      "source": [
        "### Autoparamêtros para a variável: Velocidade do vento"
      ]
    },
    {
      "cell_type": "code",
      "metadata": {
        "id": "CCrfACezmvSs",
        "colab_type": "code",
        "colab": {}
      },
      "source": [
        "autoarima_ven = run_autoarima(series_ventovel,1,cold_start)"
      ],
      "execution_count": null,
      "outputs": []
    },
    {
      "cell_type": "code",
      "metadata": {
        "id": "6rzog9hU4R4n",
        "colab_type": "code",
        "colab": {
          "base_uri": "https://localhost:8080/",
          "height": 238
        },
        "outputId": "f6bd1182-8b23-4397-a1a9-c8bd55403194"
      },
      "source": [
        "autoarima_ven"
      ],
      "execution_count": null,
      "outputs": [
        {
          "output_type": "execute_result",
          "data": {
            "text/plain": [
              "([(0, 0, 0),\n",
              "  (0, 0, 0),\n",
              "  (0, 0, 0),\n",
              "  (0, 0, 0),\n",
              "  (0, 0, 0),\n",
              "  (0, 0, 0),\n",
              "  (0, 0, 0),\n",
              "  (0, 0, 0),\n",
              "  (0, 0, 0),\n",
              "  (0, 0, 0),\n",
              "  (0, 0, 0),\n",
              "  (0, 0, 0)],\n",
              " 7.342899799346924)"
            ]
          },
          "metadata": {
            "tags": []
          },
          "execution_count": 7
        }
      ]
    },
    {
      "cell_type": "markdown",
      "metadata": {
        "id": "0HGwD314A62Y",
        "colab_type": "text"
      },
      "source": [
        "### Autoparamêtros para a variável: Radiação"
      ]
    },
    {
      "cell_type": "code",
      "metadata": {
        "id": "sMUV3xnWA6R8",
        "colab_type": "code",
        "colab": {}
      },
      "source": [
        "autoarima_rad = run_autoarima(series_radiacao,0,cold_start)"
      ],
      "execution_count": null,
      "outputs": []
    },
    {
      "cell_type": "code",
      "metadata": {
        "id": "wXn8Wz7c4Q8c",
        "colab_type": "code",
        "colab": {
          "base_uri": "https://localhost:8080/",
          "height": 238
        },
        "outputId": "8d0d33c2-3d06-46c6-ab45-84ce7c1fd6bc"
      },
      "source": [
        "autoarima_rad"
      ],
      "execution_count": null,
      "outputs": [
        {
          "output_type": "execute_result",
          "data": {
            "text/plain": [
              "([(4, 0, 2),\n",
              "  (3, 0, 2),\n",
              "  (4, 0, 6),\n",
              "  (4, 0, 2),\n",
              "  (4, 0, 2),\n",
              "  (4, 0, 6),\n",
              "  (3, 0, 2),\n",
              "  (3, 0, 2),\n",
              "  (4, 0, 2),\n",
              "  (5, 0, 7),\n",
              "  (4, 0, 2),\n",
              "  (6, 0, 7)],\n",
              " 5395.889846801758)"
            ]
          },
          "metadata": {
            "tags": []
          },
          "execution_count": 7
        }
      ]
    },
    {
      "cell_type": "markdown",
      "metadata": {
        "id": "5Qmg_YGVSWZD",
        "colab_type": "text"
      },
      "source": [
        "## AUTOSARIMA"
      ]
    },
    {
      "cell_type": "code",
      "metadata": {
        "id": "tIPMYjdOYzeD",
        "colab_type": "code",
        "colab": {}
      },
      "source": [
        "def run_autosarima(series,d,cold_start):\n",
        "  results = []\n",
        "\n",
        "  begin = series.index.min() + timedelta(days=0)\n",
        "  date_list = [begin + timedelta(hours=cold_start) + timedelta(hours=x) for x in range(0, (len(series)-cold_start), 744)]\n",
        "  \n",
        "  start = time.time()\n",
        "\n",
        "  for date in tqdm(date_list):  \n",
        "    train = series[begin:date]\n",
        "    auto = pm.auto_arima(train, d=d, m=4, seasonal=True, stepwise=True,\n",
        "                     suppress_warnings=True, error_action=\"ignore\", max_p=3, \n",
        "                     max_q=3, max_P=3, max_Q=3, trace=True)\n",
        "    results.append([auto.order,auto.seasonal_order])\n",
        "\n",
        "  t = time.time() - start\n",
        "\n",
        "  return results, t"
      ],
      "execution_count": null,
      "outputs": []
    },
    {
      "cell_type": "markdown",
      "metadata": {
        "id": "DaLpTGHEGFPa",
        "colab_type": "text"
      },
      "source": [
        "### Autoparamêtros para a variável: Velocidade do vento"
      ]
    },
    {
      "cell_type": "code",
      "metadata": {
        "id": "LTlKTSbCddF9",
        "colab_type": "code",
        "colab": {
          "base_uri": "https://localhost:8080/",
          "height": 1000
        },
        "outputId": "b54c7568-79cc-45dd-ff08-30e53640d777"
      },
      "source": [
        "autosarima_ven = run_autosarima(series_ventovel,1,cold_start)"
      ],
      "execution_count": null,
      "outputs": [
        {
          "output_type": "stream",
          "text": [
            "\r  0%|          | 0/12 [00:00<?, ?it/s]"
          ],
          "name": "stderr"
        },
        {
          "output_type": "stream",
          "text": [
            "Performing stepwise search to minimize aic\n",
            " ARIMA(2,1,2)(1,0,1)[4] intercept   : AIC=inf, Time=23.47 sec\n",
            " ARIMA(0,1,0)(0,0,0)[4] intercept   : AIC=112779.454, Time=0.19 sec\n",
            " ARIMA(1,1,0)(1,0,0)[4] intercept   : AIC=110263.816, Time=1.22 sec\n",
            " ARIMA(0,1,1)(0,0,1)[4] intercept   : AIC=inf, Time=16.82 sec\n",
            " ARIMA(0,1,0)(0,0,0)[4]             : AIC=112777.454, Time=0.11 sec\n",
            " ARIMA(1,1,0)(0,0,0)[4] intercept   : AIC=110261.816, Time=0.41 sec\n",
            " ARIMA(1,1,0)(0,0,1)[4] intercept   : AIC=110263.816, Time=1.24 sec\n",
            " ARIMA(1,1,0)(1,0,1)[4] intercept   : AIC=110265.816, Time=1.43 sec\n",
            " ARIMA(2,1,0)(0,0,0)[4] intercept   : AIC=109232.083, Time=0.86 sec\n",
            " ARIMA(2,1,0)(1,0,0)[4] intercept   : AIC=109234.083, Time=1.69 sec\n",
            " ARIMA(2,1,0)(0,0,1)[4] intercept   : AIC=109234.083, Time=1.43 sec\n",
            " ARIMA(2,1,0)(1,0,1)[4] intercept   : AIC=109236.083, Time=1.93 sec\n",
            " ARIMA(3,1,0)(0,0,0)[4] intercept   : AIC=108668.095, Time=1.08 sec\n",
            " ARIMA(3,1,0)(1,0,0)[4] intercept   : AIC=107908.349, Time=8.97 sec\n",
            " ARIMA(3,1,0)(2,0,0)[4] intercept   : AIC=107571.363, Time=19.50 sec\n",
            " ARIMA(3,1,0)(3,0,0)[4] intercept   : AIC=107384.447, Time=34.19 sec\n",
            " ARIMA(3,1,0)(4,0,0)[4] intercept   : AIC=107265.959, Time=51.82 sec\n",
            " ARIMA(3,1,0)(5,0,0)[4] intercept   : AIC=107184.745, Time=78.08 sec\n",
            " ARIMA(3,1,0)(6,0,0)[4] intercept   : AIC=107125.736, Time=113.06 sec\n",
            " ARIMA(3,1,0)(6,0,1)[4] intercept   : AIC=inf, Time=181.04 sec\n",
            " ARIMA(3,1,0)(5,0,1)[4] intercept   : AIC=inf, Time=129.79 sec\n",
            " ARIMA(2,1,0)(6,0,0)[4] intercept   : AIC=109244.083, Time=17.59 sec\n",
            " ARIMA(3,1,1)(6,0,0)[4] intercept   : AIC=inf, Time=125.18 sec\n",
            " ARIMA(2,1,1)(6,0,0)[4] intercept   : AIC=inf, Time=137.93 sec\n",
            " ARIMA(3,1,0)(6,0,0)[4]             : AIC=107123.736, Time=49.16 sec\n",
            " ARIMA(3,1,0)(5,0,0)[4]             : AIC=107182.745, Time=34.01 sec\n",
            " ARIMA(3,1,0)(6,0,1)[4]             : AIC=inf, Time=117.73 sec\n",
            " ARIMA(3,1,0)(5,0,1)[4]             : AIC=inf, Time=120.25 sec\n",
            " ARIMA(2,1,0)(6,0,0)[4]             : AIC=109242.083, Time=7.17 sec\n",
            " ARIMA(3,1,1)(6,0,0)[4]             : AIC=inf, Time=65.09 sec\n"
          ],
          "name": "stdout"
        },
        {
          "output_type": "stream",
          "text": [
            "\r  8%|▊         | 1/12 [23:22<4:17:12, 1402.94s/it]"
          ],
          "name": "stderr"
        },
        {
          "output_type": "stream",
          "text": [
            " ARIMA(2,1,1)(6,0,0)[4]             : AIC=inf, Time=60.00 sec\n",
            "\n",
            "Best model:  ARIMA(3,1,0)(6,0,0)[4]          \n",
            "Total fit time: 1402.514 seconds\n",
            "Performing stepwise search to minimize aic\n",
            " ARIMA(2,1,2)(1,0,1)[4] intercept   : AIC=inf, Time=23.21 sec\n",
            " ARIMA(0,1,0)(0,0,0)[4] intercept   : AIC=121582.927, Time=0.19 sec\n",
            " ARIMA(1,1,0)(1,0,0)[4] intercept   : AIC=118853.274, Time=1.25 sec\n",
            " ARIMA(0,1,1)(0,0,1)[4] intercept   : AIC=inf, Time=8.39 sec\n",
            " ARIMA(0,1,0)(0,0,0)[4]             : AIC=121580.927, Time=0.10 sec\n",
            " ARIMA(1,1,0)(0,0,0)[4] intercept   : AIC=118851.275, Time=0.43 sec\n",
            " ARIMA(1,1,0)(0,0,1)[4] intercept   : AIC=118853.274, Time=1.25 sec\n",
            " ARIMA(1,1,0)(1,0,1)[4] intercept   : AIC=118855.274, Time=1.48 sec\n",
            " ARIMA(2,1,0)(0,0,0)[4] intercept   : AIC=117733.899, Time=0.92 sec\n",
            " ARIMA(2,1,0)(1,0,0)[4] intercept   : AIC=117735.899, Time=1.74 sec\n",
            " ARIMA(2,1,0)(0,0,1)[4] intercept   : AIC=117735.899, Time=1.51 sec\n",
            " ARIMA(2,1,0)(1,0,1)[4] intercept   : AIC=117737.899, Time=2.03 sec\n",
            " ARIMA(3,1,0)(0,0,0)[4] intercept   : AIC=117121.827, Time=1.12 sec\n",
            " ARIMA(3,1,0)(1,0,0)[4] intercept   : AIC=116297.352, Time=10.18 sec\n",
            " ARIMA(3,1,0)(2,0,0)[4] intercept   : AIC=115931.552, Time=20.41 sec\n",
            " ARIMA(3,1,0)(3,0,0)[4] intercept   : AIC=115728.573, Time=36.55 sec\n",
            " ARIMA(3,1,0)(4,0,0)[4] intercept   : AIC=115599.835, Time=50.51 sec\n",
            " ARIMA(3,1,0)(5,0,0)[4] intercept   : AIC=115511.540, Time=80.31 sec\n",
            " ARIMA(3,1,0)(6,0,0)[4] intercept   : AIC=115447.339, Time=119.72 sec\n",
            " ARIMA(3,1,0)(6,0,1)[4] intercept   : AIC=inf, Time=201.98 sec\n",
            " ARIMA(3,1,0)(5,0,1)[4] intercept   : AIC=inf, Time=139.14 sec\n",
            " ARIMA(2,1,0)(6,0,0)[4] intercept   : AIC=117745.898, Time=18.36 sec\n",
            " ARIMA(3,1,1)(6,0,0)[4] intercept   : AIC=inf, Time=179.41 sec\n",
            " ARIMA(2,1,1)(6,0,0)[4] intercept   : AIC=inf, Time=133.91 sec\n",
            " ARIMA(3,1,0)(6,0,0)[4]             : AIC=115445.339, Time=51.55 sec\n",
            " ARIMA(3,1,0)(5,0,0)[4]             : AIC=115509.540, Time=35.96 sec\n",
            " ARIMA(3,1,0)(6,0,1)[4]             : AIC=inf, Time=147.28 sec\n",
            " ARIMA(3,1,0)(5,0,1)[4]             : AIC=inf, Time=100.57 sec\n",
            " ARIMA(2,1,0)(6,0,0)[4]             : AIC=117743.898, Time=7.03 sec\n",
            " ARIMA(3,1,1)(6,0,0)[4]             : AIC=inf, Time=71.41 sec\n"
          ],
          "name": "stdout"
        }
      ]
    },
    {
      "cell_type": "code",
      "metadata": {
        "id": "iOI8V-PhpaKJ",
        "colab_type": "code",
        "colab": {
          "base_uri": "https://localhost:8080/",
          "height": 221
        },
        "outputId": "fc48b6e8-0f70-4e60-af1c-41aa0a25bfe9"
      },
      "source": [
        "autosarima_ven"
      ],
      "execution_count": null,
      "outputs": [
        {
          "output_type": "execute_result",
          "data": {
            "text/plain": [
              "[[(0, 0, 0), (0, 0, 0, 4)],\n",
              " [(0, 0, 0), (0, 0, 0, 4)],\n",
              " [(0, 0, 0), (0, 0, 0, 4)],\n",
              " [(0, 0, 0), (0, 0, 0, 4)],\n",
              " [(0, 0, 0), (0, 0, 0, 4)],\n",
              " [(0, 0, 0), (0, 0, 0, 4)],\n",
              " [(0, 0, 0), (0, 0, 0, 4)],\n",
              " [(0, 0, 0), (0, 0, 0, 4)],\n",
              " [(0, 0, 0), (0, 0, 0, 4)],\n",
              " [(0, 0, 0), (0, 0, 0, 4)],\n",
              " [(0, 0, 0), (0, 0, 0, 4)],\n",
              " [(0, 0, 0), (0, 0, 0, 4)]]"
            ]
          },
          "metadata": {
            "tags": []
          },
          "execution_count": 23
        }
      ]
    },
    {
      "cell_type": "markdown",
      "metadata": {
        "id": "34_WFE49GHtI",
        "colab_type": "text"
      },
      "source": [
        "### Autoparamêtros para a variável: Radiação"
      ]
    },
    {
      "cell_type": "code",
      "metadata": {
        "id": "UTtN6XHpGLlS",
        "colab_type": "code",
        "colab": {
          "base_uri": "https://localhost:8080/",
          "height": 1000
        },
        "outputId": "e4895cfe-f08d-430d-8847-3c18bb3dbb2a"
      },
      "source": [
        "autosarima_rad = run_autosarima(series_radiacao,0,cold_start)"
      ],
      "execution_count": null,
      "outputs": [
        {
          "output_type": "stream",
          "text": [
            "\r  0%|          | 0/12 [00:00<?, ?it/s]"
          ],
          "name": "stderr"
        },
        {
          "output_type": "stream",
          "text": [
            "Performing stepwise search to minimize aic\n",
            " ARIMA(2,0,2)(1,0,1)[4] intercept   : AIC=inf, Time=28.90 sec\n",
            " ARIMA(0,0,0)(0,0,0)[4] intercept   : AIC=146539.592, Time=0.16 sec\n",
            " ARIMA(1,0,0)(1,0,0)[4] intercept   : AIC=131383.120, Time=2.40 sec\n",
            " ARIMA(0,0,1)(0,0,1)[4] intercept   : AIC=136193.882, Time=10.21 sec\n",
            " ARIMA(0,0,0)(0,0,0)[4]             : AIC=150115.622, Time=0.10 sec\n",
            " ARIMA(1,0,0)(0,0,0)[4] intercept   : AIC=131388.551, Time=0.43 sec\n",
            " ARIMA(1,0,0)(2,0,0)[4] intercept   : AIC=130825.200, Time=17.32 sec\n",
            " ARIMA(1,0,0)(3,0,0)[4] intercept   : AIC=130783.114, Time=34.67 sec\n",
            " ARIMA(1,0,0)(3,0,1)[4] intercept   : AIC=130556.261, Time=34.37 sec\n",
            " ARIMA(1,0,0)(2,0,1)[4] intercept   : AIC=130564.041, Time=18.89 sec\n",
            " ARIMA(1,0,0)(3,0,2)[4] intercept   : AIC=130531.513, Time=34.96 sec\n",
            " ARIMA(1,0,0)(2,0,2)[4] intercept   : AIC=130542.226, Time=19.73 sec\n",
            " ARIMA(1,0,0)(3,0,3)[4] intercept   : AIC=inf, Time=54.63 sec\n",
            " ARIMA(1,0,0)(2,0,3)[4] intercept   : AIC=inf, Time=58.52 sec\n",
            " ARIMA(0,0,0)(3,0,2)[4] intercept   : AIC=inf, Time=49.84 sec\n",
            " ARIMA(2,0,0)(3,0,2)[4] intercept   : AIC=inf, Time=68.77 sec\n",
            " ARIMA(1,0,1)(3,0,2)[4] intercept   : AIC=129786.394, Time=45.38 sec\n",
            " ARIMA(1,0,1)(2,0,2)[4] intercept   : AIC=129784.756, Time=25.47 sec\n",
            " ARIMA(1,0,1)(1,0,2)[4] intercept   : AIC=129783.066, Time=21.21 sec\n",
            " ARIMA(1,0,1)(0,0,2)[4] intercept   : AIC=129783.485, Time=23.01 sec\n",
            " ARIMA(1,0,1)(1,0,1)[4] intercept   : AIC=130114.594, Time=17.71 sec\n",
            " ARIMA(1,0,1)(1,0,3)[4] intercept   : AIC=129780.629, Time=36.27 sec\n",
            " ARIMA(1,0,1)(0,0,3)[4] intercept   : AIC=129776.877, Time=42.27 sec\n",
            " ARIMA(0,0,1)(0,0,3)[4] intercept   : AIC=135538.258, Time=48.08 sec\n",
            " ARIMA(1,0,0)(0,0,3)[4] intercept   : AIC=130541.931, Time=19.48 sec\n",
            " ARIMA(2,0,1)(0,0,3)[4] intercept   : AIC=128086.553, Time=54.41 sec\n",
            " ARIMA(2,0,1)(0,0,2)[4] intercept   : AIC=128248.323, Time=31.38 sec\n",
            " ARIMA(2,0,1)(1,0,3)[4] intercept   : AIC=inf, Time=53.45 sec\n",
            " ARIMA(2,0,1)(1,0,2)[4] intercept   : AIC=inf, Time=33.88 sec\n",
            " ARIMA(2,0,0)(0,0,3)[4] intercept   : AIC=129245.686, Time=11.24 sec\n",
            " ARIMA(3,0,1)(0,0,3)[4] intercept   : AIC=128064.495, Time=56.67 sec\n",
            " ARIMA(3,0,1)(0,0,2)[4] intercept   : AIC=128230.649, Time=34.87 sec\n",
            " ARIMA(3,0,1)(1,0,3)[4] intercept   : AIC=inf, Time=61.03 sec\n",
            " ARIMA(3,0,1)(1,0,2)[4] intercept   : AIC=inf, Time=38.81 sec\n",
            " ARIMA(3,0,0)(0,0,3)[4] intercept   : AIC=128664.250, Time=14.07 sec\n",
            " ARIMA(3,0,2)(0,0,3)[4] intercept   : AIC=inf, Time=78.48 sec\n",
            " ARIMA(2,0,2)(0,0,3)[4] intercept   : AIC=128206.941, Time=82.09 sec\n",
            " ARIMA(3,0,1)(0,0,3)[4]             : AIC=129239.565, Time=8.71 sec\n",
            "\n",
            "Best model:  ARIMA(3,0,1)(0,0,3)[4] intercept\n",
            "Total fit time: 1271.973 seconds\n"
          ],
          "name": "stdout"
        },
        {
          "output_type": "stream",
          "text": [
            "\r  8%|▊         | 1/12 [21:12<3:53:14, 1272.24s/it]"
          ],
          "name": "stderr"
        },
        {
          "output_type": "stream",
          "text": [
            "Performing stepwise search to minimize aic\n",
            " ARIMA(2,0,2)(1,0,1)[4] intercept   : AIC=inf, Time=28.60 sec\n",
            " ARIMA(0,0,0)(0,0,0)[4] intercept   : AIC=159503.734, Time=0.18 sec\n",
            " ARIMA(1,0,0)(1,0,0)[4] intercept   : AIC=142884.979, Time=2.57 sec\n",
            " ARIMA(0,0,1)(0,0,1)[4] intercept   : AIC=148087.361, Time=11.30 sec\n",
            " ARIMA(0,0,0)(0,0,0)[4]             : AIC=163406.754, Time=0.11 sec\n",
            " ARIMA(1,0,0)(0,0,0)[4] intercept   : AIC=142887.982, Time=0.47 sec\n",
            " ARIMA(1,0,0)(2,0,0)[4] intercept   : AIC=142263.607, Time=12.72 sec\n",
            " ARIMA(1,0,0)(3,0,0)[4] intercept   : AIC=142208.475, Time=38.16 sec\n",
            " ARIMA(1,0,0)(3,0,1)[4] intercept   : AIC=141954.321, Time=42.23 sec\n",
            " ARIMA(1,0,0)(2,0,1)[4] intercept   : AIC=141962.618, Time=24.26 sec\n",
            " ARIMA(1,0,0)(3,0,2)[4] intercept   : AIC=141921.785, Time=43.80 sec\n",
            " ARIMA(1,0,0)(2,0,2)[4] intercept   : AIC=141934.691, Time=20.79 sec\n",
            " ARIMA(1,0,0)(3,0,3)[4] intercept   : AIC=inf, Time=71.33 sec\n",
            " ARIMA(1,0,0)(2,0,3)[4] intercept   : AIC=inf, Time=63.57 sec\n",
            " ARIMA(0,0,0)(3,0,2)[4] intercept   : AIC=154417.149, Time=27.06 sec\n",
            " ARIMA(2,0,0)(3,0,2)[4] intercept   : AIC=inf, Time=72.49 sec\n",
            " ARIMA(1,0,1)(3,0,2)[4] intercept   : AIC=139495.390, Time=66.67 sec\n",
            " ARIMA(1,0,1)(2,0,2)[4] intercept   : AIC=141068.850, Time=28.42 sec\n",
            " ARIMA(1,0,1)(3,0,1)[4] intercept   : AIC=141066.215, Time=43.03 sec\n",
            " ARIMA(1,0,1)(3,0,3)[4] intercept   : AIC=inf, Time=86.82 sec\n",
            " ARIMA(1,0,1)(2,0,1)[4] intercept   : AIC=141065.341, Time=25.51 sec\n",
            " ARIMA(1,0,1)(2,0,3)[4] intercept   : AIC=inf, Time=69.73 sec\n",
            " ARIMA(0,0,1)(3,0,2)[4] intercept   : AIC=inf, Time=53.58 sec\n",
            " ARIMA(2,0,1)(3,0,2)[4] intercept   : AIC=inf, Time=63.50 sec\n",
            " ARIMA(1,0,2)(3,0,2)[4] intercept   : AIC=inf, Time=80.71 sec\n",
            " ARIMA(0,0,2)(3,0,2)[4] intercept   : AIC=inf, Time=56.52 sec\n",
            " ARIMA(2,0,2)(3,0,2)[4] intercept   : AIC=inf, Time=75.12 sec\n"
          ],
          "name": "stdout"
        },
        {
          "output_type": "stream",
          "text": [
            "\r 17%|█▋        | 2/12 [40:01<3:24:54, 1229.42s/it]"
          ],
          "name": "stderr"
        },
        {
          "output_type": "stream",
          "text": [
            " ARIMA(1,0,1)(3,0,2)[4]             : AIC=141418.610, Time=20.02 sec\n",
            "\n",
            "Best model:  ARIMA(1,0,1)(3,0,2)[4] intercept\n",
            "Total fit time: 1129.345 seconds\n",
            "Performing stepwise search to minimize aic\n",
            " ARIMA(2,0,2)(1,0,1)[4] intercept   : AIC=inf, Time=30.60 sec\n",
            " ARIMA(0,0,0)(0,0,0)[4] intercept   : AIC=172040.612, Time=0.31 sec\n",
            " ARIMA(1,0,0)(1,0,0)[4] intercept   : AIC=154266.237, Time=2.77 sec\n",
            " ARIMA(0,0,1)(0,0,1)[4] intercept   : AIC=159781.398, Time=8.21 sec\n",
            " ARIMA(0,0,0)(0,0,0)[4]             : AIC=176245.353, Time=0.15 sec\n",
            " ARIMA(1,0,0)(0,0,0)[4] intercept   : AIC=154267.032, Time=0.79 sec\n",
            " ARIMA(1,0,0)(2,0,0)[4] intercept   : AIC=153614.573, Time=13.24 sec\n",
            " ARIMA(1,0,0)(3,0,0)[4] intercept   : AIC=153560.052, Time=39.44 sec\n",
            " ARIMA(1,0,0)(3,0,1)[4] intercept   : AIC=153303.275, Time=42.72 sec\n",
            " ARIMA(1,0,0)(2,0,1)[4] intercept   : AIC=153310.013, Time=24.70 sec\n",
            " ARIMA(1,0,0)(3,0,2)[4] intercept   : AIC=153260.044, Time=48.17 sec\n",
            " ARIMA(1,0,0)(2,0,2)[4] intercept   : AIC=153272.886, Time=24.89 sec\n",
            " ARIMA(1,0,0)(3,0,3)[4] intercept   : AIC=inf, Time=82.95 sec\n",
            " ARIMA(1,0,0)(2,0,3)[4] intercept   : AIC=inf, Time=68.29 sec\n",
            " ARIMA(0,0,0)(3,0,2)[4] intercept   : AIC=166558.638, Time=31.07 sec\n",
            " ARIMA(2,0,0)(3,0,2)[4] intercept   : AIC=inf, Time=86.09 sec\n",
            " ARIMA(1,0,1)(3,0,2)[4] intercept   : AIC=152369.568, Time=59.48 sec\n",
            " ARIMA(1,0,1)(2,0,2)[4] intercept   : AIC=152368.174, Time=34.84 sec\n",
            " ARIMA(1,0,1)(1,0,2)[4] intercept   : AIC=152367.050, Time=24.17 sec\n",
            " ARIMA(1,0,1)(0,0,2)[4] intercept   : AIC=152372.082, Time=27.24 sec\n",
            " ARIMA(1,0,1)(1,0,1)[4] intercept   : AIC=152744.130, Time=21.22 sec\n",
            " ARIMA(1,0,1)(1,0,3)[4] intercept   : AIC=152364.016, Time=42.53 sec\n",
            " ARIMA(1,0,1)(0,0,3)[4] intercept   : AIC=152384.794, Time=25.67 sec\n",
            " ARIMA(1,0,1)(2,0,3)[4] intercept   : AIC=inf, Time=86.40 sec\n",
            " ARIMA(0,0,1)(1,0,3)[4] intercept   : AIC=159041.240, Time=61.43 sec\n",
            " ARIMA(1,0,0)(1,0,3)[4] intercept   : AIC=153273.763, Time=35.32 sec\n",
            " ARIMA(2,0,1)(1,0,3)[4] intercept   : AIC=inf, Time=65.01 sec\n",
            " ARIMA(1,0,2)(1,0,3)[4] intercept   : AIC=151931.570, Time=53.34 sec\n",
            " ARIMA(1,0,2)(0,0,3)[4] intercept   : AIC=151918.911, Time=65.03 sec\n",
            " ARIMA(1,0,2)(0,0,2)[4] intercept   : AIC=151930.128, Time=40.07 sec\n",
            " ARIMA(1,0,2)(1,0,2)[4] intercept   : AIC=151915.260, Time=47.89 sec\n",
            " ARIMA(1,0,2)(1,0,1)[4] intercept   : AIC=152326.680, Time=26.81 sec\n",
            " ARIMA(1,0,2)(2,0,2)[4] intercept   : AIC=inf, Time=70.21 sec\n",
            " ARIMA(1,0,2)(0,0,1)[4] intercept   : AIC=152234.890, Time=22.35 sec\n",
            " ARIMA(1,0,2)(2,0,1)[4] intercept   : AIC=151940.248, Time=35.90 sec\n",
            " ARIMA(1,0,2)(2,0,3)[4] intercept   : AIC=inf, Time=109.76 sec\n",
            " ARIMA(0,0,2)(1,0,2)[4] intercept   : AIC=156339.427, Time=29.57 sec\n",
            " ARIMA(2,0,2)(1,0,2)[4] intercept   : AIC=inf, Time=48.30 sec\n",
            " ARIMA(1,0,3)(1,0,2)[4] intercept   : AIC=151532.815, Time=40.37 sec\n",
            " ARIMA(1,0,3)(0,0,2)[4] intercept   : AIC=151522.512, Time=42.49 sec\n",
            " ARIMA(1,0,3)(0,0,1)[4] intercept   : AIC=151587.530, Time=25.22 sec\n",
            " ARIMA(1,0,3)(0,0,3)[4] intercept   : AIC=151511.210, Time=66.94 sec\n",
            " ARIMA(1,0,3)(1,0,3)[4] intercept   : AIC=151503.323, Time=57.14 sec\n",
            " ARIMA(1,0,3)(2,0,3)[4] intercept   : AIC=inf, Time=117.84 sec\n",
            " ARIMA(1,0,3)(2,0,2)[4] intercept   : AIC=151513.926, Time=48.50 sec\n",
            " ARIMA(0,0,3)(1,0,3)[4] intercept   : AIC=inf, Time=67.22 sec\n",
            " ARIMA(2,0,3)(1,0,3)[4] intercept   : AIC=inf, Time=82.10 sec\n",
            " ARIMA(0,0,2)(1,0,3)[4] intercept   : AIC=156769.790, Time=88.74 sec\n",
            " ARIMA(2,0,2)(1,0,3)[4] intercept   : AIC=inf, Time=79.80 sec\n"
          ],
          "name": "stdout"
        },
        {
          "output_type": "stream",
          "text": [
            "\r 25%|██▌       | 3/12 [1:18:30<3:52:59, 1553.31s/it]"
          ],
          "name": "stderr"
        },
        {
          "output_type": "stream",
          "text": [
            " ARIMA(1,0,3)(1,0,3)[4]             : AIC=inf, Time=55.24 sec\n",
            "\n",
            "Best model:  ARIMA(1,0,3)(1,0,3)[4] intercept\n",
            "Total fit time: 2308.687 seconds\n",
            "Performing stepwise search to minimize aic\n",
            " ARIMA(2,0,2)(1,0,1)[4] intercept   : AIC=inf, Time=32.78 sec\n",
            " ARIMA(0,0,0)(0,0,0)[4] intercept   : AIC=184585.175, Time=0.33 sec\n",
            " ARIMA(1,0,0)(1,0,0)[4] intercept   : AIC=165648.707, Time=2.87 sec\n",
            " ARIMA(0,0,1)(0,0,1)[4] intercept   : AIC=171575.244, Time=8.79 sec\n",
            " ARIMA(0,0,0)(0,0,0)[4]             : AIC=189104.742, Time=0.15 sec\n",
            " ARIMA(1,0,0)(0,0,0)[4] intercept   : AIC=165649.546, Time=0.84 sec\n",
            " ARIMA(1,0,0)(2,0,0)[4] intercept   : AIC=164948.529, Time=20.88 sec\n",
            " ARIMA(1,0,0)(3,0,0)[4] intercept   : AIC=164920.374, Time=26.30 sec\n",
            " ARIMA(1,0,0)(3,0,1)[4] intercept   : AIC=164626.898, Time=42.61 sec\n",
            " ARIMA(1,0,0)(2,0,1)[4] intercept   : AIC=164633.413, Time=25.60 sec\n",
            " ARIMA(1,0,0)(3,0,2)[4] intercept   : AIC=164579.584, Time=50.53 sec\n",
            " ARIMA(1,0,0)(2,0,2)[4] intercept   : AIC=164592.433, Time=24.52 sec\n",
            " ARIMA(1,0,0)(3,0,3)[4] intercept   : AIC=inf, Time=80.59 sec\n",
            " ARIMA(1,0,0)(2,0,3)[4] intercept   : AIC=inf, Time=71.08 sec\n",
            " ARIMA(0,0,0)(3,0,2)[4] intercept   : AIC=178659.979, Time=30.67 sec\n",
            " ARIMA(2,0,0)(3,0,2)[4] intercept   : AIC=inf, Time=83.82 sec\n",
            " ARIMA(1,0,1)(3,0,2)[4] intercept   : AIC=inf, Time=72.88 sec\n",
            " ARIMA(0,0,1)(3,0,2)[4] intercept   : AIC=inf, Time=70.97 sec\n",
            " ARIMA(2,0,1)(3,0,2)[4] intercept   : AIC=inf, Time=79.97 sec\n"
          ],
          "name": "stdout"
        },
        {
          "output_type": "stream",
          "text": [
            "\r 33%|███▎      | 4/12 [1:30:58<2:54:52, 1311.59s/it]"
          ],
          "name": "stderr"
        },
        {
          "output_type": "stream",
          "text": [
            " ARIMA(1,0,0)(3,0,2)[4]             : AIC=164951.888, Time=21.23 sec\n",
            "\n",
            "Best model:  ARIMA(1,0,0)(3,0,2)[4] intercept\n",
            "Total fit time: 747.472 seconds\n",
            "Performing stepwise search to minimize aic\n",
            " ARIMA(2,0,2)(1,0,1)[4] intercept   : AIC=inf, Time=37.67 sec\n",
            " ARIMA(0,0,0)(0,0,0)[4] intercept   : AIC=196921.427, Time=0.36 sec\n",
            " ARIMA(1,0,0)(1,0,0)[4] intercept   : AIC=176763.580, Time=3.16 sec\n",
            " ARIMA(0,0,1)(0,0,1)[4] intercept   : AIC=183047.736, Time=8.30 sec\n",
            " ARIMA(0,0,0)(0,0,0)[4]             : AIC=201741.439, Time=0.16 sec\n",
            " ARIMA(1,0,0)(0,0,0)[4] intercept   : AIC=176765.116, Time=0.90 sec\n",
            " ARIMA(1,0,0)(2,0,0)[4] intercept   : AIC=176011.849, Time=25.25 sec\n",
            " ARIMA(1,0,0)(3,0,0)[4] intercept   : AIC=175982.306, Time=25.49 sec\n",
            " ARIMA(1,0,0)(3,0,1)[4] intercept   : AIC=175665.806, Time=41.96 sec\n",
            " ARIMA(1,0,0)(2,0,1)[4] intercept   : AIC=175672.842, Time=27.14 sec\n",
            " ARIMA(1,0,0)(3,0,2)[4] intercept   : AIC=175614.069, Time=52.20 sec\n",
            " ARIMA(1,0,0)(2,0,2)[4] intercept   : AIC=175627.531, Time=28.59 sec\n",
            " ARIMA(1,0,0)(3,0,3)[4] intercept   : AIC=inf, Time=85.76 sec\n",
            " ARIMA(1,0,0)(2,0,3)[4] intercept   : AIC=inf, Time=71.60 sec\n",
            " ARIMA(0,0,0)(3,0,2)[4] intercept   : AIC=inf, Time=60.33 sec\n",
            " ARIMA(2,0,0)(3,0,2)[4] intercept   : AIC=inf, Time=86.59 sec\n",
            " ARIMA(1,0,1)(3,0,2)[4] intercept   : AIC=174684.980, Time=65.46 sec\n",
            " ARIMA(1,0,1)(2,0,2)[4] intercept   : AIC=174684.042, Time=42.23 sec\n",
            " ARIMA(1,0,1)(1,0,2)[4] intercept   : AIC=174683.268, Time=25.81 sec\n",
            " ARIMA(1,0,1)(0,0,2)[4] intercept   : AIC=174692.527, Time=27.84 sec\n",
            " ARIMA(1,0,1)(1,0,1)[4] intercept   : AIC=175137.124, Time=25.23 sec\n",
            " ARIMA(1,0,1)(1,0,3)[4] intercept   : AIC=174680.077, Time=44.50 sec\n",
            " ARIMA(1,0,1)(0,0,3)[4] intercept   : AIC=174678.356, Time=58.30 sec\n",
            " ARIMA(0,0,1)(0,0,3)[4] intercept   : AIC=182141.747, Time=58.82 sec\n",
            " ARIMA(1,0,0)(0,0,3)[4] intercept   : AIC=175627.246, Time=24.59 sec\n",
            " ARIMA(2,0,1)(0,0,3)[4] intercept   : AIC=172470.277, Time=70.16 sec\n",
            " ARIMA(2,0,1)(0,0,2)[4] intercept   : AIC=172720.256, Time=40.76 sec\n",
            " ARIMA(2,0,1)(1,0,3)[4] intercept   : AIC=inf, Time=71.10 sec\n",
            " ARIMA(2,0,1)(1,0,2)[4] intercept   : AIC=inf, Time=43.08 sec\n",
            " ARIMA(2,0,0)(0,0,3)[4] intercept   : AIC=174074.055, Time=15.99 sec\n",
            " ARIMA(3,0,1)(0,0,3)[4] intercept   : AIC=172474.916, Time=79.97 sec\n",
            " ARIMA(2,0,2)(0,0,3)[4] intercept   : AIC=172740.567, Time=83.39 sec\n",
            " ARIMA(1,0,2)(0,0,3)[4] intercept   : AIC=174188.881, Time=69.49 sec\n",
            " ARIMA(3,0,0)(0,0,3)[4] intercept   : AIC=173364.369, Time=13.44 sec\n",
            " ARIMA(3,0,2)(0,0,3)[4] intercept   : AIC=inf, Time=93.80 sec\n"
          ],
          "name": "stdout"
        },
        {
          "output_type": "stream",
          "text": [
            "\r 42%|████▏     | 5/12 [1:56:16<2:40:14, 1373.49s/it]"
          ],
          "name": "stderr"
        },
        {
          "output_type": "stream",
          "text": [
            " ARIMA(2,0,1)(0,0,3)[4]             : AIC=174101.798, Time=8.17 sec\n",
            "\n",
            "Best model:  ARIMA(2,0,1)(0,0,3)[4] intercept\n",
            "Total fit time: 1517.667 seconds\n",
            "Performing stepwise search to minimize aic\n",
            " ARIMA(2,0,2)(1,0,1)[4] intercept   : AIC=inf, Time=35.23 sec\n",
            " ARIMA(0,0,0)(0,0,0)[4] intercept   : AIC=209181.589, Time=0.36 sec\n",
            " ARIMA(1,0,0)(1,0,0)[4] intercept   : AIC=187686.945, Time=3.08 sec\n",
            " ARIMA(0,0,1)(0,0,1)[4] intercept   : AIC=194387.999, Time=9.01 sec\n",
            " ARIMA(0,0,0)(0,0,0)[4]             : AIC=214289.151, Time=0.16 sec\n",
            " ARIMA(1,0,0)(0,0,0)[4] intercept   : AIC=187688.987, Time=0.98 sec\n",
            " ARIMA(1,0,0)(2,0,0)[4] intercept   : AIC=186887.405, Time=17.37 sec\n",
            " ARIMA(1,0,0)(3,0,0)[4] intercept   : AIC=186846.234, Time=29.55 sec\n",
            " ARIMA(1,0,0)(3,0,1)[4] intercept   : AIC=186506.114, Time=46.30 sec\n",
            " ARIMA(1,0,0)(2,0,1)[4] intercept   : AIC=186513.277, Time=31.66 sec\n",
            " ARIMA(1,0,0)(3,0,2)[4] intercept   : AIC=186448.400, Time=52.98 sec\n",
            " ARIMA(1,0,0)(2,0,2)[4] intercept   : AIC=186462.066, Time=27.47 sec\n",
            " ARIMA(1,0,0)(3,0,3)[4] intercept   : AIC=inf, Time=109.01 sec\n",
            " ARIMA(1,0,0)(2,0,3)[4] intercept   : AIC=inf, Time=78.20 sec\n",
            " ARIMA(0,0,0)(3,0,2)[4] intercept   : AIC=202471.524, Time=35.71 sec\n",
            " ARIMA(2,0,0)(3,0,2)[4] intercept   : AIC=inf, Time=93.40 sec\n",
            " ARIMA(1,0,1)(3,0,2)[4] intercept   : AIC=185422.511, Time=67.16 sec\n",
            " ARIMA(1,0,1)(2,0,2)[4] intercept   : AIC=185421.183, Time=38.68 sec\n",
            " ARIMA(1,0,1)(1,0,2)[4] intercept   : AIC=185420.520, Time=27.95 sec\n",
            " ARIMA(1,0,1)(0,0,2)[4] intercept   : AIC=185429.405, Time=32.80 sec\n",
            " ARIMA(1,0,1)(1,0,1)[4] intercept   : AIC=185977.444, Time=24.92 sec\n",
            " ARIMA(1,0,1)(1,0,3)[4] intercept   : AIC=185416.578, Time=46.62 sec\n",
            " ARIMA(1,0,1)(0,0,3)[4] intercept   : AIC=185414.462, Time=51.07 sec\n",
            " ARIMA(0,0,1)(0,0,3)[4] intercept   : AIC=193416.934, Time=59.65 sec\n",
            " ARIMA(1,0,0)(0,0,3)[4] intercept   : AIC=186461.975, Time=27.37 sec\n",
            " ARIMA(2,0,1)(0,0,3)[4] intercept   : AIC=183083.426, Time=68.83 sec\n",
            " ARIMA(2,0,1)(0,0,2)[4] intercept   : AIC=183328.065, Time=45.66 sec\n",
            " ARIMA(2,0,1)(1,0,3)[4] intercept   : AIC=inf, Time=74.51 sec\n",
            " ARIMA(2,0,1)(1,0,2)[4] intercept   : AIC=inf, Time=48.14 sec\n",
            " ARIMA(2,0,0)(0,0,3)[4] intercept   : AIC=184740.478, Time=14.70 sec\n",
            " ARIMA(3,0,1)(0,0,3)[4] intercept   : AIC=183070.137, Time=85.62 sec\n",
            " ARIMA(3,0,1)(0,0,2)[4] intercept   : AIC=183309.384, Time=50.34 sec\n",
            " ARIMA(3,0,1)(1,0,3)[4] intercept   : AIC=inf, Time=83.90 sec\n",
            " ARIMA(3,0,1)(1,0,2)[4] intercept   : AIC=inf, Time=51.35 sec\n",
            " ARIMA(3,0,0)(0,0,3)[4] intercept   : AIC=183981.957, Time=13.97 sec\n",
            " ARIMA(3,0,2)(0,0,3)[4] intercept   : AIC=inf, Time=100.82 sec\n",
            " ARIMA(2,0,2)(0,0,3)[4] intercept   : AIC=183332.321, Time=86.58 sec\n",
            " ARIMA(3,0,1)(0,0,3)[4]             : AIC=184757.139, Time=11.70 sec\n",
            "\n",
            "Best model:  ARIMA(3,0,1)(0,0,3)[4] intercept\n",
            "Total fit time: 1682.887 seconds\n"
          ],
          "name": "stdout"
        },
        {
          "output_type": "stream",
          "text": [
            "\r 50%|█████     | 6/12 [2:24:19<2:26:38, 1466.38s/it]"
          ],
          "name": "stderr"
        },
        {
          "output_type": "stream",
          "text": [
            "Performing stepwise search to minimize aic\n",
            " ARIMA(2,0,2)(1,0,1)[4] intercept   : AIC=inf, Time=39.72 sec\n",
            " ARIMA(0,0,0)(0,0,0)[4] intercept   : AIC=221409.453, Time=0.38 sec\n",
            " ARIMA(1,0,0)(1,0,0)[4] intercept   : AIC=198578.446, Time=3.28 sec\n",
            " ARIMA(0,0,1)(0,0,1)[4] intercept   : AIC=205700.881, Time=9.31 sec\n",
            " ARIMA(0,0,0)(0,0,0)[4]             : AIC=226809.696, Time=0.17 sec\n",
            " ARIMA(1,0,0)(0,0,0)[4] intercept   : AIC=198581.710, Time=1.00 sec\n",
            " ARIMA(1,0,0)(2,0,0)[4] intercept   : AIC=197718.179, Time=17.50 sec\n",
            " ARIMA(1,0,0)(3,0,0)[4] intercept   : AIC=197651.276, Time=49.71 sec\n",
            " ARIMA(1,0,0)(3,0,1)[4] intercept   : AIC=197302.970, Time=49.50 sec\n",
            " ARIMA(1,0,0)(2,0,1)[4] intercept   : AIC=197310.880, Time=33.76 sec\n",
            " ARIMA(1,0,0)(3,0,2)[4] intercept   : AIC=197241.883, Time=59.18 sec\n",
            " ARIMA(1,0,0)(2,0,2)[4] intercept   : AIC=197256.121, Time=27.66 sec\n",
            " ARIMA(1,0,0)(3,0,3)[4] intercept   : AIC=inf, Time=96.24 sec\n",
            " ARIMA(1,0,0)(2,0,3)[4] intercept   : AIC=inf, Time=81.72 sec\n",
            " ARIMA(0,0,0)(3,0,2)[4] intercept   : AIC=214310.553, Time=38.46 sec\n",
            " ARIMA(2,0,0)(3,0,2)[4] intercept   : AIC=inf, Time=100.81 sec\n",
            " ARIMA(1,0,1)(3,0,2)[4] intercept   : AIC=196121.702, Time=74.77 sec\n",
            " ARIMA(1,0,1)(2,0,2)[4] intercept   : AIC=196120.060, Time=38.88 sec\n",
            " ARIMA(1,0,1)(1,0,2)[4] intercept   : AIC=196119.362, Time=31.67 sec\n",
            " ARIMA(1,0,1)(0,0,2)[4] intercept   : AIC=196128.279, Time=32.21 sec\n",
            " ARIMA(1,0,1)(1,0,1)[4] intercept   : AIC=196683.365, Time=26.34 sec\n",
            " ARIMA(1,0,1)(1,0,3)[4] intercept   : AIC=196114.799, Time=52.32 sec\n",
            " ARIMA(1,0,1)(0,0,3)[4] intercept   : AIC=196112.184, Time=62.68 sec\n",
            " ARIMA(0,0,1)(0,0,3)[4] intercept   : AIC=204650.162, Time=50.77 sec\n",
            " ARIMA(1,0,0)(0,0,3)[4] intercept   : AIC=197256.339, Time=26.15 sec\n",
            " ARIMA(2,0,1)(0,0,3)[4] intercept   : AIC=193644.344, Time=72.86 sec\n",
            " ARIMA(2,0,1)(0,0,2)[4] intercept   : AIC=193887.839, Time=48.43 sec\n",
            " ARIMA(2,0,1)(1,0,3)[4] intercept   : AIC=inf, Time=82.85 sec\n",
            " ARIMA(2,0,1)(1,0,2)[4] intercept   : AIC=inf, Time=50.10 sec\n",
            " ARIMA(2,0,0)(0,0,3)[4] intercept   : AIC=195369.625, Time=17.33 sec\n",
            " ARIMA(3,0,1)(0,0,3)[4] intercept   : AIC=193603.254, Time=86.29 sec\n",
            " ARIMA(3,0,1)(0,0,2)[4] intercept   : AIC=193845.303, Time=49.41 sec\n",
            " ARIMA(3,0,1)(1,0,3)[4] intercept   : AIC=inf, Time=83.72 sec\n",
            " ARIMA(3,0,1)(1,0,2)[4] intercept   : AIC=inf, Time=60.70 sec\n",
            " ARIMA(3,0,0)(0,0,3)[4] intercept   : AIC=194559.601, Time=18.17 sec\n",
            " ARIMA(3,0,2)(0,0,3)[4] intercept   : AIC=inf, Time=99.27 sec\n",
            " ARIMA(2,0,2)(0,0,3)[4] intercept   : AIC=193878.045, Time=88.80 sec\n",
            " ARIMA(3,0,1)(0,0,3)[4]             : AIC=195397.939, Time=12.42 sec\n",
            "\n",
            "Best model:  ARIMA(3,0,1)(0,0,3)[4] intercept\n",
            "Total fit time: 1774.672 seconds\n"
          ],
          "name": "stdout"
        },
        {
          "output_type": "stream",
          "text": [
            "\r 58%|█████▊    | 7/12 [2:53:54<2:09:54, 1558.95s/it]"
          ],
          "name": "stderr"
        },
        {
          "output_type": "stream",
          "text": [
            "Performing stepwise search to minimize aic\n",
            " ARIMA(2,0,2)(1,0,1)[4] intercept   : AIC=inf, Time=41.82 sec\n",
            " ARIMA(0,0,0)(0,0,0)[4] intercept   : AIC=233731.205, Time=0.40 sec\n",
            " ARIMA(1,0,0)(1,0,0)[4] intercept   : AIC=209547.173, Time=3.71 sec\n",
            " ARIMA(0,0,1)(0,0,1)[4] intercept   : AIC=217095.109, Time=10.26 sec\n",
            " ARIMA(0,0,0)(0,0,0)[4]             : AIC=239439.095, Time=0.17 sec\n",
            " ARIMA(1,0,0)(0,0,0)[4] intercept   : AIC=209551.456, Time=1.05 sec\n",
            " ARIMA(1,0,0)(2,0,0)[4] intercept   : AIC=208617.787, Time=19.53 sec\n",
            " ARIMA(1,0,0)(3,0,0)[4] intercept   : AIC=208571.391, Time=31.83 sec\n",
            " ARIMA(1,0,0)(3,0,1)[4] intercept   : AIC=208164.700, Time=49.37 sec\n",
            " ARIMA(1,0,0)(2,0,1)[4] intercept   : AIC=208173.116, Time=34.05 sec\n",
            " ARIMA(1,0,0)(3,0,2)[4] intercept   : AIC=208098.449, Time=58.00 sec\n",
            " ARIMA(1,0,0)(2,0,2)[4] intercept   : AIC=208113.098, Time=29.88 sec\n",
            " ARIMA(1,0,0)(3,0,3)[4] intercept   : AIC=inf, Time=101.36 sec\n",
            " ARIMA(1,0,0)(2,0,3)[4] intercept   : AIC=inf, Time=130.73 sec\n",
            " ARIMA(0,0,0)(3,0,2)[4] intercept   : AIC=226188.776, Time=42.53 sec\n",
            " ARIMA(2,0,0)(3,0,2)[4] intercept   : AIC=inf, Time=92.98 sec\n",
            " ARIMA(1,0,1)(3,0,2)[4] intercept   : AIC=206875.524, Time=78.33 sec\n",
            " ARIMA(1,0,1)(2,0,2)[4] intercept   : AIC=206873.463, Time=44.00 sec\n",
            " ARIMA(1,0,1)(1,0,2)[4] intercept   : AIC=206861.320, Time=44.97 sec\n",
            " ARIMA(1,0,1)(0,0,2)[4] intercept   : AIC=206882.283, Time=34.64 sec\n",
            " ARIMA(1,0,1)(1,0,1)[4] intercept   : AIC=207437.340, Time=28.95 sec\n",
            " ARIMA(1,0,1)(1,0,3)[4] intercept   : AIC=206867.495, Time=53.88 sec\n",
            " ARIMA(1,0,1)(0,0,1)[4] intercept   : AIC=207546.219, Time=19.87 sec\n",
            " ARIMA(1,0,1)(0,0,3)[4] intercept   : AIC=206864.393, Time=54.60 sec\n",
            " ARIMA(1,0,1)(2,0,1)[4] intercept   : AIC=206879.263, Time=37.51 sec\n",
            " ARIMA(1,0,1)(2,0,3)[4] intercept   : AIC=inf, Time=93.73 sec\n",
            " ARIMA(0,0,1)(1,0,2)[4] intercept   : AIC=216708.626, Time=53.89 sec\n",
            " ARIMA(1,0,0)(1,0,2)[4] intercept   : AIC=208113.273, Time=25.84 sec\n",
            " ARIMA(2,0,1)(1,0,2)[4] intercept   : AIC=inf, Time=52.35 sec\n",
            " ARIMA(1,0,2)(1,0,2)[4] intercept   : AIC=206245.657, Time=64.46 sec\n",
            " ARIMA(1,0,2)(0,0,2)[4] intercept   : AIC=206245.543, Time=53.62 sec\n",
            " ARIMA(1,0,2)(0,0,1)[4] intercept   : AIC=206702.342, Time=28.77 sec\n",
            " ARIMA(1,0,2)(0,0,3)[4] intercept   : AIC=206226.458, Time=79.81 sec\n",
            " ARIMA(1,0,2)(1,0,3)[4] intercept   : AIC=206245.311, Time=66.05 sec\n",
            " ARIMA(0,0,2)(0,0,3)[4] intercept   : AIC=212090.950, Time=68.57 sec\n",
            " ARIMA(2,0,2)(0,0,3)[4] intercept   : AIC=204453.813, Time=88.23 sec\n",
            " ARIMA(2,0,2)(0,0,2)[4] intercept   : AIC=204660.110, Time=64.84 sec\n",
            " ARIMA(2,0,2)(1,0,3)[4] intercept   : AIC=inf, Time=94.10 sec\n",
            " ARIMA(2,0,2)(1,0,2)[4] intercept   : AIC=inf, Time=67.69 sec\n",
            " ARIMA(2,0,1)(0,0,3)[4] intercept   : AIC=204197.797, Time=77.81 sec\n",
            " ARIMA(2,0,1)(0,0,2)[4] intercept   : AIC=204483.709, Time=45.91 sec\n",
            " ARIMA(2,0,1)(1,0,3)[4] intercept   : AIC=inf, Time=80.25 sec\n",
            " ARIMA(2,0,0)(0,0,3)[4] intercept   : AIC=206039.908, Time=15.72 sec\n",
            " ARIMA(3,0,1)(0,0,3)[4] intercept   : AIC=204195.632, Time=86.08 sec\n",
            " ARIMA(3,0,1)(0,0,2)[4] intercept   : AIC=204446.536, Time=55.55 sec\n",
            " ARIMA(3,0,1)(1,0,3)[4] intercept   : AIC=inf, Time=91.30 sec\n",
            " ARIMA(3,0,1)(1,0,2)[4] intercept   : AIC=inf, Time=61.00 sec\n",
            " ARIMA(3,0,0)(0,0,3)[4] intercept   : AIC=205170.451, Time=17.02 sec\n",
            " ARIMA(3,0,2)(0,0,3)[4] intercept   : AIC=inf, Time=102.85 sec\n",
            " ARIMA(3,0,1)(0,0,3)[4]             : AIC=206084.434, Time=12.22 sec\n",
            "\n",
            "Best model:  ARIMA(3,0,1)(0,0,3)[4] intercept\n",
            "Total fit time: 2592.192 seconds\n"
          ],
          "name": "stdout"
        },
        {
          "output_type": "stream",
          "text": [
            "\r 67%|██████▋   | 8/12 [3:37:06<2:04:36, 1869.04s/it]"
          ],
          "name": "stderr"
        },
        {
          "output_type": "stream",
          "text": [
            "Performing stepwise search to minimize aic\n",
            " ARIMA(2,0,2)(1,0,1)[4] intercept   : AIC=inf, Time=40.94 sec\n",
            " ARIMA(0,0,0)(0,0,0)[4] intercept   : AIC=246173.381, Time=0.43 sec\n",
            " ARIMA(1,0,0)(1,0,0)[4] intercept   : AIC=220561.011, Time=3.49 sec\n",
            " ARIMA(0,0,1)(0,0,1)[4] intercept   : AIC=228537.469, Time=11.49 sec\n",
            " ARIMA(0,0,0)(0,0,0)[4]             : AIC=252195.452, Time=0.18 sec\n",
            " ARIMA(1,0,0)(0,0,0)[4] intercept   : AIC=220566.262, Time=1.10 sec\n",
            " ARIMA(1,0,0)(2,0,0)[4] intercept   : AIC=219535.498, Time=30.98 sec\n",
            " ARIMA(1,0,0)(3,0,0)[4] intercept   : AIC=219500.456, Time=34.01 sec\n",
            " ARIMA(1,0,0)(3,0,1)[4] intercept   : AIC=219053.866, Time=57.75 sec\n",
            " ARIMA(1,0,0)(2,0,1)[4] intercept   : AIC=219063.238, Time=40.73 sec\n",
            " ARIMA(1,0,0)(3,0,2)[4] intercept   : AIC=218980.300, Time=55.83 sec\n",
            " ARIMA(1,0,0)(2,0,2)[4] intercept   : AIC=218995.540, Time=30.45 sec\n",
            " ARIMA(1,0,0)(3,0,3)[4] intercept   : AIC=inf, Time=121.29 sec\n",
            " ARIMA(1,0,0)(2,0,3)[4] intercept   : AIC=inf, Time=83.19 sec\n",
            " ARIMA(0,0,0)(3,0,2)[4] intercept   : AIC=238147.799, Time=46.75 sec\n",
            " ARIMA(2,0,0)(3,0,2)[4] intercept   : AIC=inf, Time=105.24 sec\n",
            " ARIMA(1,0,1)(3,0,2)[4] intercept   : AIC=217632.284, Time=76.49 sec\n",
            " ARIMA(1,0,1)(2,0,2)[4] intercept   : AIC=217630.293, Time=40.65 sec\n",
            " ARIMA(1,0,1)(1,0,2)[4] intercept   : AIC=217616.291, Time=48.64 sec\n",
            " ARIMA(1,0,1)(0,0,2)[4] intercept   : AIC=217636.981, Time=39.71 sec\n",
            " ARIMA(1,0,1)(1,0,1)[4] intercept   : AIC=218238.021, Time=30.41 sec\n",
            " ARIMA(1,0,1)(1,0,3)[4] intercept   : AIC=217622.966, Time=53.43 sec\n",
            " ARIMA(1,0,1)(0,0,1)[4] intercept   : AIC=218355.422, Time=23.79 sec\n",
            " ARIMA(1,0,1)(0,0,3)[4] intercept   : AIC=217618.511, Time=63.63 sec\n",
            " ARIMA(1,0,1)(2,0,1)[4] intercept   : AIC=217637.493, Time=46.34 sec\n",
            " ARIMA(1,0,1)(2,0,3)[4] intercept   : AIC=inf, Time=88.07 sec\n",
            " ARIMA(0,0,1)(1,0,2)[4] intercept   : AIC=228085.253, Time=41.86 sec\n",
            " ARIMA(1,0,0)(1,0,2)[4] intercept   : AIC=218996.906, Time=26.01 sec\n",
            " ARIMA(2,0,1)(1,0,2)[4] intercept   : AIC=inf, Time=56.91 sec\n",
            " ARIMA(1,0,2)(1,0,2)[4] intercept   : AIC=216968.312, Time=65.03 sec\n",
            " ARIMA(1,0,2)(0,0,2)[4] intercept   : AIC=216947.417, Time=55.78 sec\n",
            " ARIMA(1,0,2)(0,0,1)[4] intercept   : AIC=217441.320, Time=31.47 sec\n",
            " ARIMA(1,0,2)(0,0,3)[4] intercept   : AIC=216925.098, Time=72.60 sec\n",
            " ARIMA(1,0,2)(1,0,3)[4] intercept   : AIC=216946.436, Time=63.57 sec\n",
            " ARIMA(0,0,2)(0,0,3)[4] intercept   : AIC=223134.762, Time=74.82 sec\n",
            " ARIMA(2,0,2)(0,0,3)[4] intercept   : AIC=215017.745, Time=94.87 sec\n",
            " ARIMA(2,0,2)(0,0,2)[4] intercept   : AIC=215235.893, Time=66.17 sec\n",
            " ARIMA(2,0,2)(1,0,3)[4] intercept   : AIC=inf, Time=103.26 sec\n",
            " ARIMA(2,0,2)(1,0,2)[4] intercept   : AIC=inf, Time=72.62 sec\n",
            " ARIMA(2,0,1)(0,0,3)[4] intercept   : AIC=214770.145, Time=79.48 sec\n",
            " ARIMA(2,0,1)(0,0,2)[4] intercept   : AIC=215062.972, Time=54.20 sec\n",
            " ARIMA(2,0,1)(1,0,3)[4] intercept   : AIC=inf, Time=80.93 sec\n",
            " ARIMA(2,0,0)(0,0,3)[4] intercept   : AIC=216691.413, Time=31.58 sec\n",
            " ARIMA(3,0,1)(0,0,3)[4] intercept   : AIC=214760.601, Time=94.99 sec\n",
            " ARIMA(3,0,1)(0,0,2)[4] intercept   : AIC=215021.125, Time=61.09 sec\n",
            " ARIMA(3,0,1)(1,0,3)[4] intercept   : AIC=inf, Time=94.84 sec\n",
            " ARIMA(3,0,1)(1,0,2)[4] intercept   : AIC=inf, Time=65.32 sec\n",
            " ARIMA(3,0,0)(0,0,3)[4] intercept   : AIC=215771.730, Time=18.97 sec\n",
            " ARIMA(3,0,2)(0,0,3)[4] intercept   : AIC=inf, Time=106.62 sec\n",
            " ARIMA(3,0,1)(0,0,3)[4]             : AIC=216759.888, Time=13.82 sec\n",
            "\n",
            "Best model:  ARIMA(3,0,1)(0,0,3)[4] intercept\n",
            "Total fit time: 2701.981 seconds\n"
          ],
          "name": "stdout"
        },
        {
          "output_type": "stream",
          "text": [
            "\r 75%|███████▌  | 9/12 [4:22:09<1:45:57, 2119.03s/it]"
          ],
          "name": "stderr"
        },
        {
          "output_type": "stream",
          "text": [
            "Performing stepwise search to minimize aic\n",
            " ARIMA(2,0,2)(1,0,1)[4] intercept   : AIC=inf, Time=49.30 sec\n",
            " ARIMA(0,0,0)(0,0,0)[4] intercept   : AIC=258814.077, Time=0.44 sec\n",
            " ARIMA(1,0,0)(1,0,0)[4] intercept   : AIC=231690.436, Time=3.82 sec\n",
            " ARIMA(0,0,1)(0,0,1)[4] intercept   : AIC=240130.539, Time=11.67 sec\n",
            " ARIMA(0,0,0)(0,0,0)[4]             : AIC=265155.461, Time=0.19 sec\n",
            " ARIMA(1,0,0)(0,0,0)[4] intercept   : AIC=231694.847, Time=1.20 sec\n",
            " ARIMA(1,0,0)(2,0,0)[4] intercept   : AIC=230573.532, Time=30.06 sec\n",
            " ARIMA(1,0,0)(3,0,0)[4] intercept   : AIC=230539.460, Time=33.92 sec\n",
            " ARIMA(1,0,0)(3,0,1)[4] intercept   : AIC=230058.112, Time=68.28 sec\n",
            " ARIMA(1,0,0)(2,0,1)[4] intercept   : AIC=230608.972, Time=46.69 sec\n",
            " ARIMA(1,0,0)(3,0,2)[4] intercept   : AIC=229966.749, Time=68.41 sec\n",
            " ARIMA(1,0,0)(2,0,2)[4] intercept   : AIC=229985.703, Time=31.32 sec\n",
            " ARIMA(1,0,0)(3,0,3)[4] intercept   : AIC=inf, Time=109.11 sec\n",
            " ARIMA(1,0,0)(2,0,3)[4] intercept   : AIC=inf, Time=82.84 sec\n",
            " ARIMA(0,0,0)(3,0,2)[4] intercept   : AIC=250007.507, Time=60.29 sec\n",
            " ARIMA(2,0,0)(3,0,2)[4] intercept   : AIC=inf, Time=108.18 sec\n",
            " ARIMA(1,0,1)(3,0,2)[4] intercept   : AIC=228517.728, Time=76.74 sec\n",
            " ARIMA(1,0,1)(2,0,2)[4] intercept   : AIC=228500.402, Time=56.75 sec\n",
            " ARIMA(1,0,1)(1,0,2)[4] intercept   : AIC=228513.473, Time=38.49 sec\n",
            " ARIMA(1,0,1)(2,0,1)[4] intercept   : AIC=228526.816, Time=46.33 sec\n",
            " ARIMA(1,0,1)(2,0,3)[4] intercept   : AIC=inf, Time=110.27 sec\n",
            " ARIMA(1,0,1)(1,0,1)[4] intercept   : AIC=229157.877, Time=31.89 sec\n",
            " ARIMA(1,0,1)(1,0,3)[4] intercept   : AIC=228505.697, Time=55.63 sec\n",
            " ARIMA(1,0,1)(3,0,1)[4] intercept   : AIC=228529.708, Time=68.47 sec\n",
            " ARIMA(1,0,1)(3,0,3)[4] intercept   : AIC=inf, Time=109.58 sec\n",
            " ARIMA(0,0,1)(2,0,2)[4] intercept   : AIC=inf, Time=70.78 sec\n",
            " ARIMA(2,0,1)(2,0,2)[4] intercept   : AIC=inf, Time=69.45 sec\n",
            " ARIMA(1,0,2)(2,0,2)[4] intercept   : AIC=225978.615, Time=81.17 sec\n",
            " ARIMA(1,0,2)(1,0,2)[4] intercept   : AIC=227752.683, Time=66.65 sec\n",
            " ARIMA(1,0,2)(2,0,1)[4] intercept   : AIC=227764.884, Time=55.89 sec\n",
            " ARIMA(1,0,2)(3,0,2)[4] intercept   : AIC=inf, Time=108.37 sec\n",
            " ARIMA(1,0,2)(2,0,3)[4] intercept   : AIC=inf, Time=139.14 sec\n",
            " ARIMA(1,0,2)(1,0,1)[4] intercept   : AIC=228217.507, Time=40.92 sec\n",
            " ARIMA(1,0,2)(1,0,3)[4] intercept   : AIC=227739.993, Time=62.76 sec\n",
            " ARIMA(1,0,2)(3,0,1)[4] intercept   : AIC=227778.481, Time=73.98 sec\n",
            " ARIMA(1,0,2)(3,0,3)[4] intercept   : AIC=inf, Time=135.91 sec\n",
            " ARIMA(0,0,2)(2,0,2)[4] intercept   : AIC=inf, Time=79.98 sec\n",
            " ARIMA(2,0,2)(2,0,2)[4] intercept   : AIC=inf, Time=83.56 sec\n",
            " ARIMA(1,0,3)(2,0,2)[4] intercept   : AIC=227063.945, Time=65.51 sec\n",
            " ARIMA(0,0,3)(2,0,2)[4] intercept   : AIC=inf, Time=96.89 sec\n",
            " ARIMA(2,0,3)(2,0,2)[4] intercept   : AIC=inf, Time=99.34 sec\n",
            " ARIMA(1,0,2)(2,0,2)[4]             : AIC=228400.946, Time=24.79 sec\n",
            "\n",
            "Best model:  ARIMA(1,0,2)(2,0,2)[4] intercept\n",
            "Total fit time: 2655.093 seconds\n"
          ],
          "name": "stdout"
        },
        {
          "output_type": "stream",
          "text": [
            "\r 83%|████████▎ | 10/12 [5:06:24<1:15:59, 2279.94s/it]"
          ],
          "name": "stderr"
        },
        {
          "output_type": "stream",
          "text": [
            "Performing stepwise search to minimize aic\n",
            " ARIMA(2,0,2)(1,0,1)[4] intercept   : AIC=inf, Time=47.42 sec\n",
            " ARIMA(0,0,0)(0,0,0)[4] intercept   : AIC=271573.488, Time=0.45 sec\n",
            " ARIMA(1,0,0)(1,0,0)[4] intercept   : AIC=243010.556, Time=4.14 sec\n",
            " ARIMA(0,0,1)(0,0,1)[4] intercept   : AIC=251855.469, Time=14.20 sec\n",
            " ARIMA(0,0,0)(0,0,0)[4]             : AIC=278242.807, Time=0.19 sec\n",
            " ARIMA(1,0,0)(0,0,0)[4] intercept   : AIC=243014.408, Time=1.20 sec\n",
            " ARIMA(1,0,0)(2,0,0)[4] intercept   : AIC=241835.771, Time=22.55 sec\n",
            " ARIMA(1,0,0)(3,0,0)[4] intercept   : AIC=241785.281, Time=36.10 sec\n",
            " ARIMA(1,0,0)(3,0,1)[4] intercept   : AIC=241808.745, Time=71.94 sec\n",
            " ARIMA(1,0,0)(2,0,1)[4] intercept   : AIC=241875.713, Time=50.35 sec\n",
            " ARIMA(0,0,0)(3,0,0)[4] intercept   : AIC=263796.630, Time=26.12 sec\n",
            " ARIMA(2,0,0)(3,0,0)[4] intercept   : AIC=238525.178, Time=72.12 sec\n",
            " ARIMA(2,0,0)(2,0,0)[4] intercept   : AIC=238575.739, Time=15.66 sec\n",
            " ARIMA(2,0,0)(3,0,1)[4] intercept   : AIC=238460.061, Time=52.74 sec\n",
            " ARIMA(2,0,0)(2,0,1)[4] intercept   : AIC=238468.330, Time=57.08 sec\n",
            " ARIMA(2,0,0)(3,0,2)[4] intercept   : AIC=inf, Time=127.43 sec\n",
            " ARIMA(2,0,0)(2,0,2)[4] intercept   : AIC=238496.021, Time=22.09 sec\n",
            " ARIMA(3,0,0)(3,0,1)[4] intercept   : AIC=237417.373, Time=60.12 sec\n",
            " ARIMA(3,0,0)(2,0,1)[4] intercept   : AIC=237439.484, Time=34.07 sec\n",
            " ARIMA(3,0,0)(3,0,0)[4] intercept   : AIC=237465.437, Time=34.24 sec\n",
            " ARIMA(3,0,0)(3,0,2)[4] intercept   : AIC=inf, Time=124.19 sec\n",
            " ARIMA(3,0,0)(2,0,0)[4] intercept   : AIC=237465.962, Time=16.41 sec\n",
            " ARIMA(3,0,0)(2,0,2)[4] intercept   : AIC=237431.205, Time=35.12 sec\n",
            " ARIMA(3,0,1)(3,0,1)[4] intercept   : AIC=236366.224, Time=124.62 sec\n",
            " ARIMA(3,0,1)(2,0,1)[4] intercept   : AIC=236431.710, Time=77.11 sec\n",
            " ARIMA(3,0,1)(3,0,0)[4] intercept   : AIC=236092.995, Time=109.91 sec\n",
            " ARIMA(3,0,1)(2,0,0)[4] intercept   : AIC=236600.875, Time=68.04 sec\n",
            " ARIMA(2,0,1)(3,0,0)[4] intercept   : AIC=235980.460, Time=102.73 sec\n",
            " ARIMA(2,0,1)(2,0,0)[4] intercept   : AIC=236649.639, Time=59.85 sec\n",
            " ARIMA(2,0,1)(3,0,1)[4] intercept   : AIC=236238.005, Time=90.37 sec\n",
            " ARIMA(2,0,1)(2,0,1)[4] intercept   : AIC=236451.872, Time=55.33 sec\n",
            " ARIMA(1,0,1)(3,0,0)[4] intercept   : AIC=239807.223, Time=70.01 sec\n",
            " ARIMA(2,0,2)(3,0,0)[4] intercept   : AIC=236308.234, Time=97.18 sec\n",
            " ARIMA(1,0,2)(3,0,0)[4] intercept   : AIC=238910.083, Time=76.76 sec\n",
            " ARIMA(3,0,2)(3,0,0)[4] intercept   : AIC=inf, Time=113.32 sec\n",
            " ARIMA(2,0,1)(3,0,0)[4]             : AIC=238442.660, Time=13.32 sec\n",
            "\n",
            "Best model:  ARIMA(2,0,1)(3,0,0)[4] intercept\n",
            "Total fit time: 1984.599 seconds\n"
          ],
          "name": "stdout"
        },
        {
          "output_type": "stream",
          "text": [
            "\r 92%|█████████▏| 11/12 [5:39:29<36:31, 2191.41s/it]  "
          ],
          "name": "stderr"
        },
        {
          "output_type": "stream",
          "text": [
            "Performing stepwise search to minimize aic\n",
            " ARIMA(2,0,2)(1,0,1)[4] intercept   : AIC=inf, Time=49.61 sec\n",
            " ARIMA(0,0,0)(0,0,0)[4] intercept   : AIC=284041.520, Time=0.47 sec\n",
            " ARIMA(1,0,0)(1,0,0)[4] intercept   : AIC=254288.881, Time=4.16 sec\n",
            " ARIMA(0,0,1)(0,0,1)[4] intercept   : AIC=263508.318, Time=12.55 sec\n",
            " ARIMA(0,0,0)(0,0,0)[4]             : AIC=291014.115, Time=0.20 sec\n",
            " ARIMA(1,0,0)(0,0,0)[4] intercept   : AIC=254292.900, Time=1.27 sec\n",
            " ARIMA(1,0,0)(2,0,0)[4] intercept   : AIC=253086.030, Time=22.79 sec\n",
            " ARIMA(1,0,0)(3,0,0)[4] intercept   : AIC=253002.057, Time=52.21 sec\n",
            " ARIMA(1,0,0)(3,0,1)[4] intercept   : AIC=252519.020, Time=68.49 sec\n",
            " ARIMA(1,0,0)(2,0,1)[4] intercept   : AIC=253105.298, Time=46.10 sec\n",
            " ARIMA(1,0,0)(3,0,2)[4] intercept   : AIC=252423.463, Time=62.96 sec\n",
            " ARIMA(1,0,0)(2,0,2)[4] intercept   : AIC=252441.963, Time=32.24 sec\n",
            " ARIMA(1,0,0)(3,0,3)[4] intercept   : AIC=inf, Time=89.34 sec\n",
            " ARIMA(1,0,0)(2,0,3)[4] intercept   : AIC=inf, Time=88.47 sec\n",
            " ARIMA(0,0,0)(3,0,2)[4] intercept   : AIC=274623.864, Time=53.44 sec\n",
            " ARIMA(2,0,0)(3,0,2)[4] intercept   : AIC=inf, Time=113.17 sec\n",
            " ARIMA(1,0,1)(3,0,2)[4] intercept   : AIC=250836.655, Time=84.71 sec\n",
            " ARIMA(1,0,1)(2,0,2)[4] intercept   : AIC=250833.404, Time=67.30 sec\n",
            " ARIMA(1,0,1)(1,0,2)[4] intercept   : AIC=250816.732, Time=58.22 sec\n",
            " ARIMA(1,0,1)(0,0,2)[4] intercept   : AIC=250874.273, Time=25.85 sec\n",
            " ARIMA(1,0,1)(1,0,1)[4] intercept   : AIC=251530.286, Time=35.42 sec\n",
            " ARIMA(1,0,1)(1,0,3)[4] intercept   : AIC=250823.199, Time=62.86 sec\n",
            " ARIMA(1,0,1)(0,0,1)[4] intercept   : AIC=251684.318, Time=23.42 sec\n",
            " ARIMA(1,0,1)(0,0,3)[4] intercept   : AIC=250816.315, Time=71.34 sec\n",
            " ARIMA(0,0,1)(0,0,3)[4] intercept   : AIC=262054.190, Time=69.65 sec\n",
            " ARIMA(1,0,0)(0,0,3)[4] intercept   : AIC=252445.607, Time=31.61 sec\n",
            " ARIMA(2,0,1)(0,0,3)[4] intercept   : AIC=247438.498, Time=83.30 sec\n",
            " ARIMA(2,0,1)(0,0,2)[4] intercept   : AIC=247804.651, Time=56.83 sec\n",
            " ARIMA(2,0,1)(1,0,3)[4] intercept   : AIC=inf, Time=90.17 sec\n",
            " ARIMA(2,0,1)(1,0,2)[4] intercept   : AIC=inf, Time=63.63 sec\n",
            " ARIMA(2,0,0)(0,0,3)[4] intercept   : AIC=249711.799, Time=19.09 sec\n",
            " ARIMA(3,0,1)(0,0,3)[4] intercept   : AIC=247424.978, Time=98.40 sec\n",
            " ARIMA(3,0,1)(0,0,2)[4] intercept   : AIC=247751.510, Time=64.20 sec\n",
            " ARIMA(3,0,1)(1,0,3)[4] intercept   : AIC=inf, Time=96.67 sec\n",
            " ARIMA(3,0,1)(1,0,2)[4] intercept   : AIC=inf, Time=75.41 sec\n",
            " ARIMA(3,0,0)(0,0,3)[4] intercept   : AIC=248612.648, Time=18.42 sec\n",
            " ARIMA(3,0,2)(0,0,3)[4] intercept   : AIC=inf, Time=118.35 sec\n",
            " ARIMA(2,0,2)(0,0,3)[4] intercept   : AIC=247735.481, Time=105.71 sec\n",
            " ARIMA(3,0,1)(0,0,3)[4]             : AIC=249742.899, Time=15.67 sec\n",
            "\n",
            "Best model:  ARIMA(3,0,1)(0,0,3)[4] intercept\n",
            "Total fit time: 2133.851 seconds\n"
          ],
          "name": "stdout"
        },
        {
          "output_type": "stream",
          "text": [
            "100%|██████████| 12/12 [6:15:03<00:00, 1875.31s/it]\n"
          ],
          "name": "stderr"
        }
      ]
    },
    {
      "cell_type": "code",
      "metadata": {
        "id": "6f_v51w24n-0",
        "colab_type": "code",
        "colab": {
          "base_uri": "https://localhost:8080/",
          "height": 238
        },
        "outputId": "31a195d7-7c93-4dd3-80bf-854f60d2a56b"
      },
      "source": [
        "autosarima_rad"
      ],
      "execution_count": null,
      "outputs": [
        {
          "output_type": "execute_result",
          "data": {
            "text/plain": [
              "([[(3, 0, 1), (0, 0, 3, 4)],\n",
              "  [(1, 0, 1), (3, 0, 2, 4)],\n",
              "  [(1, 0, 3), (1, 0, 3, 4)],\n",
              "  [(1, 0, 0), (3, 0, 2, 4)],\n",
              "  [(2, 0, 1), (0, 0, 3, 4)],\n",
              "  [(3, 0, 1), (0, 0, 3, 4)],\n",
              "  [(3, 0, 1), (0, 0, 3, 4)],\n",
              "  [(3, 0, 1), (0, 0, 3, 4)],\n",
              "  [(3, 0, 1), (0, 0, 3, 4)],\n",
              "  [(1, 0, 2), (2, 0, 2, 4)],\n",
              "  [(2, 0, 1), (3, 0, 0, 4)],\n",
              "  [(3, 0, 1), (0, 0, 3, 4)]],\n",
              " 22503.690353393555)"
            ]
          },
          "metadata": {
            "tags": []
          },
          "execution_count": 8
        }
      ]
    }
  ]
}