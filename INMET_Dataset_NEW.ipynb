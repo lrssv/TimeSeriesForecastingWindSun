{
  "nbformat": 4,
  "nbformat_minor": 0,
  "metadata": {
    "colab": {
      "name": "INMET_Dataset_NEW.ipynb",
      "provenance": [],
      "authorship_tag": "ABX9TyOPyMFRDrkSPwZZArARJbCp",
      "include_colab_link": true
    },
    "kernelspec": {
      "name": "python3",
      "display_name": "Python 3"
    }
  },
  "cells": [
    {
      "cell_type": "markdown",
      "metadata": {
        "id": "view-in-github",
        "colab_type": "text"
      },
      "source": [
        "<a href=\"https://colab.research.google.com/github/lrssv/TimeSeriesForecastingWindSun/blob/master/INMET_Dataset_NEW.ipynb\" target=\"_parent\"><img src=\"https://colab.research.google.com/assets/colab-badge.svg\" alt=\"Open In Colab\"/></a>"
      ]
    },
    {
      "cell_type": "code",
      "metadata": {
        "id": "vnSr4zipOTti",
        "colab_type": "code",
        "colab": {
          "base_uri": "https://localhost:8080/",
          "height": 71
        },
        "outputId": "356243e4-54ae-4052-8487-2edb33a48521"
      },
      "source": [
        "#imports\n",
        "import warnings\n",
        "import itertools\n",
        "import pandas as pd\n",
        "import numpy as np\n",
        "import statsmodels.api as sm\n",
        "from datetime import timedelta\n",
        "import itertools\n",
        "from statsmodels.tsa.arima_model import ARIMA\n",
        "from tqdm import tqdm\n",
        "import matplotlib.pyplot as plt\n",
        "from matplotlib.pyplot import figure\n"
      ],
      "execution_count": null,
      "outputs": [
        {
          "output_type": "stream",
          "text": [
            "/usr/local/lib/python3.6/dist-packages/statsmodels/tools/_testing.py:19: FutureWarning: pandas.util.testing is deprecated. Use the functions in the public API at pandas.testing instead.\n",
            "  import pandas.util.testing as tm\n"
          ],
          "name": "stderr"
        }
      ]
    },
    {
      "cell_type": "code",
      "metadata": {
        "id": "Eaepehe2OZsV",
        "colab_type": "code",
        "colab": {}
      },
      "source": [
        "#Recebe o arquivo csv\n",
        "url= 'https://raw.githubusercontent.com/lrssv/TimeSeriesForecastingWindSun/master/inmet_pampulha_2018_2019.CSV'\n",
        "df = pd.read_csv(url, sep=\";\", encoding = \"ISO-8859-1\", usecols=['Data','Hora','RADIACAO','VENTO_VEL']).fillna(0)"
      ],
      "execution_count": null,
      "outputs": []
    },
    {
      "cell_type": "code",
      "metadata": {
        "id": "50-AqI6rObes",
        "colab_type": "code",
        "colab": {}
      },
      "source": [
        "#Refaz o formato da hora\n",
        "df['Hora'] = df['Hora'].str.replace(r'\\D', '')\n",
        "df['Hora'] = [x[:-2] for x in df['Hora']]"
      ],
      "execution_count": null,
      "outputs": []
    },
    {
      "cell_type": "code",
      "metadata": {
        "id": "sH67LUYyOdBj",
        "colab_type": "code",
        "colab": {}
      },
      "source": [
        "#Acrescenta um 0 a esquerda em VENTO_VEL e substitui ',' por '.'\n",
        "df['VENTO_VEL'] = df['VENTO_VEL'].str.zfill(3)\n",
        "df['VENTO_VEL'] = df['VENTO_VEL'].str.replace(',','.').fillna(0)"
      ],
      "execution_count": null,
      "outputs": []
    },
    {
      "cell_type": "code",
      "metadata": {
        "id": "Y-OFfBI0OePN",
        "colab_type": "code",
        "colab": {}
      },
      "source": [
        "#Substitui ',' por '.' em RADIACAO\n",
        "df['RADIACAO'] = df['RADIACAO'].str.replace(',','.').fillna(0)"
      ],
      "execution_count": null,
      "outputs": []
    },
    {
      "cell_type": "code",
      "metadata": {
        "id": "Vjlu7VYaxz7z",
        "colab_type": "code",
        "colab": {}
      },
      "source": [
        "#Substituir os valores negativos de radiacao\n",
        "df['RADIACAO'] = [float(x) for x in df['RADIACAO']]\n",
        "df = df.assign(RADIACAO = df.RADIACAO.where(df.RADIACAO.ge(0))).fillna(0)"
      ],
      "execution_count": null,
      "outputs": []
    },
    {
      "cell_type": "code",
      "metadata": {
        "id": "AzGgDcMkOgxz",
        "colab_type": "code",
        "colab": {}
      },
      "source": [
        "#Agrupa data+hora \n",
        "source_col_loc = df.columns.get_loc('Data') \n",
        "df['datetime'] = df.iloc[:,source_col_loc:source_col_loc+2].apply(\n",
        "    lambda x: \" \".join(x.astype(str)), axis=1)"
      ],
      "execution_count": null,
      "outputs": []
    },
    {
      "cell_type": "code",
      "metadata": {
        "id": "762FXyHXOhMD",
        "colab_type": "code",
        "colab": {}
      },
      "source": [
        "#Tranforma data+hora em Datetime e cria um novo dataframe\n",
        "dataFormatada = pd.to_datetime(df['datetime'], format='%Y-%m-%d %H')\n",
        "\n",
        "d = {'date':dataFormatada, 'ventovel':df['VENTO_VEL'], 'radiacao':df['RADIACAO']}\n",
        "\n",
        "dataFrame = pd.DataFrame(data=d)\n",
        "\n",
        "frameList = list(dataFrame.date) #list of all dates in 'dataFrame'"
      ],
      "execution_count": null,
      "outputs": []
    },
    {
      "cell_type": "code",
      "metadata": {
        "id": "fl2yiv_pOifl",
        "colab_type": "code",
        "colab": {}
      },
      "source": [
        "#Cria todas as datas existentes no banco de dados\n",
        "\n",
        "serieStart = '2018-01-01 00:00:00' \n",
        "serieEnd = '2019-12-31 23:00:00\t'\n",
        "\n",
        "date = pd.date_range(start=serieStart, end=serieEnd, freq='1H')\n",
        "\n",
        "dt = {'date': date}\n",
        "frameDate = date #list of dates all dates in 'date'\n"
      ],
      "execution_count": null,
      "outputs": []
    },
    {
      "cell_type": "code",
      "metadata": {
        "id": "vEXJKFz7Okg0",
        "colab_type": "code",
        "colab": {}
      },
      "source": [
        "#Inclui datas faltantes e substitui o valor por nan\n",
        "\n",
        "new_dates = []\n",
        "new_values_ventovel = []\n",
        "new_values_rad = []\n",
        "\n",
        "\n",
        "for i in frameDate:\n",
        "  if i in frameList:\n",
        "    new_dates.append(i)\n",
        "    new_values_ventovel.append(float(dataFrame[dataFrame['date']==i]['ventovel']))\n",
        "    new_values_rad.append(float(dataFrame[dataFrame['date']==i]['radiacao']))\n",
        "\n",
        "  else:\n",
        "    new_dates.append(i)\n",
        "    new_values_ventovel.append(np.nan)\n",
        "    new_values_rad.append(np.nan)"
      ],
      "execution_count": null,
      "outputs": []
    },
    {
      "cell_type": "code",
      "metadata": {
        "id": "EqOAZNNtOm5L",
        "colab_type": "code",
        "colab": {}
      },
      "source": [
        "#Transforma em Serie e interpola os valores nan \n",
        "index = pd.DatetimeIndex(new_dates)\n",
        "series_ventovel = pd.Series(new_values_ventovel, index=index).interpolate()\n",
        "series_radiacao = pd.Series(new_values_rad, index=index).interpolate()"
      ],
      "execution_count": null,
      "outputs": []
    },
    {
      "cell_type": "code",
      "metadata": {
        "id": "UoErlpGaOqA7",
        "colab_type": "code",
        "colab": {}
      },
      "source": [
        "#Exporta pra csv\n",
        "series_ventovel.to_csv('/content/drive/My Drive/Data Files/series_ventovel_pampulha_2018_2019')\n",
        "series_radiacao.to_csv('/content/drive/My Drive/Data Files/series_radiacao_pampulha_2018_2019')"
      ],
      "execution_count": null,
      "outputs": []
    }
  ]
}