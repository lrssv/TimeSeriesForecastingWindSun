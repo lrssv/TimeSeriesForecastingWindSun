{
  "nbformat": 4,
  "nbformat_minor": 0,
  "metadata": {
    "colab": {
      "name": "WindSun_ARIMA.ipynb",
      "provenance": [],
      "collapsed_sections": [
        "9X2sSfSANQsf",
        "TK7bOyHFMiD_",
        "pkvLKPX-GTzo"
      ],
      "authorship_tag": "ABX9TyNlrthu5W6uz1XVtWtMb3PT",
      "include_colab_link": true
    },
    "kernelspec": {
      "name": "python3",
      "display_name": "Python 3"
    }
  },
  "cells": [
    {
      "cell_type": "markdown",
      "metadata": {
        "id": "view-in-github",
        "colab_type": "text"
      },
      "source": [
        "<a href=\"https://colab.research.google.com/github/lrssv/TimeSeriesForecastingWindSun/blob/master/WindSun_ARIMA.ipynb\" target=\"_parent\"><img src=\"https://colab.research.google.com/assets/colab-badge.svg\" alt=\"Open In Colab\"/></a>"
      ]
    },
    {
      "cell_type": "markdown",
      "metadata": {
        "id": "W6zRVi0HNF31",
        "colab_type": "text"
      },
      "source": [
        "# Algoritmo ARIMA para Previsão de Séries Temporais com base nos dados do INMET"
      ]
    },
    {
      "cell_type": "markdown",
      "metadata": {
        "id": "9X2sSfSANQsf",
        "colab_type": "text"
      },
      "source": [
        "## Obtendo os dados atráves do github"
      ]
    },
    {
      "cell_type": "code",
      "metadata": {
        "id": "Kbpd7SI2MUrk",
        "colab_type": "code",
        "colab": {
          "base_uri": "https://localhost:8080/",
          "height": 71
        },
        "outputId": "14f63931-6cbc-424a-94bc-506e0e6e8d14"
      },
      "source": [
        "#imports\n",
        "import pandas as pd\n",
        "import numpy as np\n",
        "from datetime import timedelta\n",
        "import statsmodels.api as sm"
      ],
      "execution_count": 3,
      "outputs": []
    },
    {
      "cell_type": "code",
      "metadata": {
        "id": "I0vnWCO9MdHC",
        "colab_type": "code",
        "colab": {}
      },
      "source": [
        "#obtem os dados\n",
        "url1 = 'https://raw.githubusercontent.com/lrssv/TimeSeriesForecastingWindSun/master/series_ventovel_pampulha_2018_2019'\n",
        "url2 = 'https://raw.githubusercontent.com/lrssv/TimeSeriesForecastingWindSun/master/series_radiacao_pampulha_2018_2019'\n",
        "\n",
        "df_ventovel = pd.read_csv(url1, header=0, parse_dates=[0], index_col=0, squeeze=True)\n",
        "df_radiacao = pd.read_csv(url2, header=0, parse_dates=[0], index_col=0, squeeze=True)\n",
        "\n",
        "\n",
        "series_ventovel = pd.Series(df_ventovel)\n",
        "series_radiacao = pd.Series(df_radiacao)"
      ],
      "execution_count": 4,
      "outputs": []
    },
    {
      "cell_type": "code",
      "execution_count": 7,
      "metadata": {},
      "outputs": [
        {
          "output_type": "execute_result",
          "data": {
            "text/plain": "2018-01-01 00:00:00    0.0\n2018-01-01 01:00:00    0.0\n2018-01-01 02:00:00    0.0\n2018-01-01 03:00:00    0.0\n2018-01-01 04:00:00    0.0\nName: 0, dtype: float64"
          },
          "metadata": {},
          "execution_count": 7
        }
      ],
      "source": [
        "series_radiacao.head()"
      ]
    },
    {
      "cell_type": "markdown",
      "metadata": {
        "id": "MkYRtdxrNbsy",
        "colab_type": "text"
      },
      "source": [
        "## ARIMA \n"
      ]
    },
    {
      "cell_type": "code",
      "metadata": {
        "id": "2dT2fVGcEWoc",
        "colab_type": "code",
        "colab": {}
      },
      "source": [
        "def run_arima(series, steps_ahead, configuracao):\n",
        "  result = []\n",
        "  \n",
        "  #Lista de data+hora que será previsto\n",
        "  begin = series.index.max() + timedelta(days=0)\n",
        "  date_list = [begin + timedelta(hours=x) for x in range(1,steps_ahead+1)]\n",
        "  \n",
        "  #Valores da série\n",
        "  values = series.values\n",
        "\n",
        "  #ARIMA\n",
        "  mod = sm.tsa.statespace.SARIMAX(values, order=configuracao)\n",
        "  res = mod.fit(disp=False)\n",
        "  forecast = res.forecast(steps=steps_ahead)\n",
        "\n",
        "  #Resultado no formato para ser exibido no gráfico\n",
        "  for i in range(steps_ahead):\n",
        "    if forecast[i] < 0: \n",
        "      result.append([date_list[i].strftime('%d/%m/%Y %H:%M:%S'),0])\n",
        "    else:\n",
        "      result.append([date_list[i].strftime('%d/%m/%Y %H:%M:%S'),round((forecast[i]),3)])\n",
        "\n",
        "  return result"
      ],
      "execution_count": null,
      "outputs": []
    },
    {
      "cell_type": "code",
      "metadata": {
        "id": "WG3ru75J6AuO",
        "colab_type": "code",
        "colab": {}
      },
      "source": [
        "order_ven = (12,1,0)\n",
        "order_rad = (4,0,2)"
      ],
      "execution_count": null,
      "outputs": []
    },
    {
      "cell_type": "markdown",
      "metadata": {
        "id": "IJhNX0pzc0CC",
        "colab_type": "text"
      },
      "source": [
        "## Previsão 1 hora a frente"
      ]
    },
    {
      "cell_type": "code",
      "metadata": {
        "id": "1LJbvvDJcziH",
        "colab_type": "code",
        "colab": {
          "base_uri": "https://localhost:8080/",
          "height": 34
        },
        "outputId": "14655a39-4827-4717-f478-da195e1746d8"
      },
      "source": [
        "result_ven_1 = run_arima(series_ventovel,1,order_ven)\n",
        "result_ven_1"
      ],
      "execution_count": null,
      "outputs": []
    },
    {
      "cell_type": "code",
      "metadata": {
        "id": "dWFu5llRc5Y4",
        "colab_type": "code",
        "colab": {
          "base_uri": "https://localhost:8080/",
          "height": 68
        },
        "outputId": "2c161437-ee99-47ce-827a-716096bc3efc"
      },
      "source": [
        "result_rad_1 = run_arima(series_radiacao,1,order_rad)\n",
        "result_rad_1"
      ],
      "execution_count": null,
      "outputs": []
    },
    {
      "cell_type": "markdown",
      "metadata": {
        "id": "imQp2fgbuGT-",
        "colab_type": "text"
      },
      "source": [
        "## Previsão 1 dia a frente"
      ]
    },
    {
      "cell_type": "code",
      "metadata": {
        "id": "b6YeCfpqXDXE",
        "colab_type": "code",
        "colab": {
          "base_uri": "https://localhost:8080/",
          "height": 425
        },
        "outputId": "252246e3-9089-4b70-bfc3-c37b183e2e5f"
      },
      "source": [
        "result_ven_1 = run_arima(series_ventovel,24,order_ven)\n",
        "result_ven_1"
      ],
      "execution_count": null,
      "outputs": []
    },
    {
      "cell_type": "code",
      "metadata": {
        "id": "frZrbKYzL4mm",
        "colab_type": "code",
        "colab": {
          "base_uri": "https://localhost:8080/",
          "height": 459
        },
        "outputId": "eb7a8fd1-fdc4-4cc3-eb10-7a52cc143a4b"
      },
      "source": [
        "result_rad_1 = run_arima(series_radiacao,24,order_rad)\n",
        "result_rad_1"
      ],
      "execution_count": null,
      "outputs": []
    },
    {
      "cell_type": "markdown",
      "metadata": {
        "id": "TK7bOyHFMiD_",
        "colab_type": "text"
      },
      "source": [
        "## Previsão 7 dias a frente"
      ]
    },
    {
      "cell_type": "code",
      "metadata": {
        "id": "o19IDS70Mkf-",
        "colab_type": "code",
        "colab": {
          "base_uri": "https://localhost:8080/",
          "height": 1000
        },
        "outputId": "1b153f06-9e95-4ee4-d96d-6879c1854ebd"
      },
      "source": [
        "result_ven_2 = run_arima(series_ventovel,168,order_ven)\n",
        "result_ven_2"
      ],
      "execution_count": null,
      "outputs": []
    },
    {
      "cell_type": "code",
      "metadata": {
        "id": "jyEdtiQtGM_O",
        "colab_type": "code",
        "colab": {
          "base_uri": "https://localhost:8080/",
          "height": 1000
        },
        "outputId": "59139ed8-294d-43e4-b8fc-de0d49787c66"
      },
      "source": [
        "result_rad_2 = run_arima(series_radiacao,168,order_rad)\n",
        "result_rad_2"
      ],
      "execution_count": null,
      "outputs": []
    }
  ]
}